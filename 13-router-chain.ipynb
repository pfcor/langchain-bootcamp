{
 "cells": [
  {
   "cell_type": "code",
   "execution_count": 1,
   "metadata": {},
   "outputs": [],
   "source": [
    "#stunde ask physics\n",
    "# how does a magnet work\n",
    "# explain feynman diagram"
   ]
  },
  {
   "cell_type": "code",
   "execution_count": 4,
   "metadata": {},
   "outputs": [],
   "source": [
    "beginner_template = '''You are a physics teacher who is really\n",
    "focused on beginners and explaining complex topics in simple to understand terms. \n",
    "You assume no prior knowledge.\\n\\nHere is the question: {query}'''\n",
    "\n",
    "expert_template = '''You are a world expert physics professor who explains physics topics\n",
    "to advanced audience members. You can assume anyone you answer has a \n",
    "PhD level understanding of Physics.\\n\\nHere is the question: {query}'''"
   ]
  },
  {
   "cell_type": "code",
   "execution_count": 5,
   "metadata": {},
   "outputs": [],
   "source": [
    "# route promopt infromation\n",
    "\n",
    "prompt_infos = [\n",
    "    {'name': 'beginner physics',\n",
    "     'description': 'answer basic physics questions', \n",
    "     'template': beginner_template},\n",
    "    {'name': 'advanced physics',\n",
    "     'description': 'answers advanced physics questions',\n",
    "     'template': expert_template}\n",
    "]"
   ]
  },
  {
   "cell_type": "code",
   "execution_count": 7,
   "metadata": {},
   "outputs": [],
   "source": [
    "from langchain_openai import ChatOpenAI\n",
    "from langchain_core.prompts import ChatPromptTemplate\n",
    "from langchain.chains import LLMChain\n"
   ]
  },
  {
   "cell_type": "code",
   "execution_count": 42,
   "metadata": {},
   "outputs": [],
   "source": [
    "llm = ChatOpenAI(model=\"gpt-4o-mini\")\n",
    "\n",
    "destination_chains = {}\n",
    "for p_info in prompt_infos:\n",
    "    name = p_info['name']\n",
    "    prompt_template = p_info['template']\n",
    "    prompt = ChatPromptTemplate.from_template(template=prompt_template)\n",
    "    chain = prompt | llm\n",
    "    # chain = LLMChain(llm=llm, prompt=prompt)\n",
    "\n",
    "    destination_chains[name] = chain"
   ]
  },
  {
   "cell_type": "code",
   "execution_count": 43,
   "metadata": {},
   "outputs": [],
   "source": [
    "default_prompt = ChatPromptTemplate.from_template('{input}')\n",
    "default_chain = default_prompt | llm"
   ]
  },
  {
   "cell_type": "code",
   "execution_count": 44,
   "metadata": {},
   "outputs": [],
   "source": [
    "from langchain.chains.router.multi_prompt_prompt import MULTI_PROMPT_ROUTER_TEMPLATE"
   ]
  },
  {
   "cell_type": "code",
   "execution_count": 45,
   "metadata": {},
   "outputs": [
    {
     "name": "stdout",
     "output_type": "stream",
     "text": [
      "Given a raw text input to a language model select the model prompt best suited for the input. You will be given the names of the available prompts and a description of what the prompt is best suited for. You may also revise the original input if you think that revising it will ultimately lead to a better response from the language model.\n",
      "\n",
      "<< FORMATTING >>\n",
      "Return a markdown code snippet with a JSON object formatted to look like:\n",
      "```json\n",
      "{{{{\n",
      "    \"destination\": string \\ name of the prompt to use or \"DEFAULT\"\n",
      "    \"next_inputs\": string \\ a potentially modified version of the original input\n",
      "}}}}\n",
      "```\n",
      "\n",
      "REMEMBER: \"destination\" MUST be one of the candidate prompt names specified below OR it can be \"DEFAULT\" if the input is not well suited for any of the candidate prompts.\n",
      "REMEMBER: \"next_inputs\" can just be the original input if you don't think any modifications are needed.\n",
      "\n",
      "<< CANDIDATE PROMPTS >>\n",
      "{destinations}\n",
      "\n",
      "<< INPUT >>\n",
      "{{input}}\n",
      "\n",
      "<< OUTPUT (must include ```json at the start of the response) >>\n",
      "<< OUTPUT (must end with ```) >>\n",
      "\n"
     ]
    }
   ],
   "source": [
    "print(MULTI_PROMPT_ROUTER_TEMPLATE)"
   ]
  },
  {
   "cell_type": "code",
   "execution_count": 46,
   "metadata": {},
   "outputs": [
    {
     "data": {
      "text/plain": [
       "['beginner physics: answer basic physics questions',\n",
       " 'advanced physics: answers advanced physics questions']"
      ]
     },
     "execution_count": 46,
     "metadata": {},
     "output_type": "execute_result"
    }
   ],
   "source": [
    "destinations = [f\"{p['name']}: {p['description']}\" for p in prompt_infos]\n",
    "destinations"
   ]
  },
  {
   "cell_type": "code",
   "execution_count": 47,
   "metadata": {},
   "outputs": [
    {
     "data": {
      "text/plain": [
       "'beginner physics: answer basic physics questions\\nadvanced physics: answers advanced physics questions'"
      ]
     },
     "execution_count": 47,
     "metadata": {},
     "output_type": "execute_result"
    }
   ],
   "source": [
    "destination_str = \"\\n\".join(destinations)\n",
    "destination_str"
   ]
  },
  {
   "cell_type": "code",
   "execution_count": 48,
   "metadata": {},
   "outputs": [],
   "source": [
    "from langchain_core.prompts import PromptTemplate\n",
    "from langchain.chains.router.llm_router import LLMRouterChain, RouterOutputParser"
   ]
  },
  {
   "cell_type": "code",
   "execution_count": 49,
   "metadata": {},
   "outputs": [
    {
     "name": "stdout",
     "output_type": "stream",
     "text": [
      "Given a raw text input to a language model select the model prompt best suited for the input. You will be given the names of the available prompts and a description of what the prompt is best suited for. You may also revise the original input if you think that revising it will ultimately lead to a better response from the language model.\n",
      "\n",
      "<< FORMATTING >>\n",
      "Return a markdown code snippet with a JSON object formatted to look like:\n",
      "```json\n",
      "{{\n",
      "    \"destination\": string \\ name of the prompt to use or \"DEFAULT\"\n",
      "    \"next_inputs\": string \\ a potentially modified version of the original input\n",
      "}}\n",
      "```\n",
      "\n",
      "REMEMBER: \"destination\" MUST be one of the candidate prompt names specified below OR it can be \"DEFAULT\" if the input is not well suited for any of the candidate prompts.\n",
      "REMEMBER: \"next_inputs\" can just be the original input if you don't think any modifications are needed.\n",
      "\n",
      "<< CANDIDATE PROMPTS >>\n",
      "beginner physics: answer basic physics questions\n",
      "advanced physics: answers advanced physics questions\n",
      "\n",
      "<< INPUT >>\n",
      "{input}\n",
      "\n",
      "<< OUTPUT (must include ```json at the start of the response) >>\n",
      "<< OUTPUT (must end with ```) >>\n",
      "\n"
     ]
    }
   ],
   "source": [
    "router_template = MULTI_PROMPT_ROUTER_TEMPLATE.format(destinations=destination_str)\n",
    "print(router_template )"
   ]
  },
  {
   "cell_type": "code",
   "execution_count": 50,
   "metadata": {},
   "outputs": [],
   "source": [
    "router_prompt = PromptTemplate(template=router_template,\n",
    "                               input_variables=['input'],\n",
    "                               output_parser=RouterOutputParser())"
   ]
  },
  {
   "cell_type": "code",
   "execution_count": 51,
   "metadata": {},
   "outputs": [],
   "source": [
    "from langchain.chains.router import MultiPromptChain"
   ]
  },
  {
   "cell_type": "code",
   "execution_count": 52,
   "metadata": {},
   "outputs": [],
   "source": [
    "router_chain = LLMRouterChain.from_llm(llm=llm, prompt=router_prompt)"
   ]
  },
  {
   "cell_type": "code",
   "execution_count": 53,
   "metadata": {},
   "outputs": [
    {
     "data": {
      "text/plain": [
       "{'beginner physics': ChatPromptTemplate(input_variables=['input'], input_types={}, partial_variables={}, messages=[HumanMessagePromptTemplate(prompt=PromptTemplate(input_variables=['input'], input_types={}, partial_variables={}, template='You are a physics teacher who is really\\nfocused on beginners and explaining complex topics in simple to understand terms. \\nYou assume no prior knowledge.\\n\\nHere is the question: {input}'), additional_kwargs={})])\n",
       " | ChatOpenAI(client=<openai.resources.chat.completions.Completions object at 0x000001BBD3458C50>, async_client=<openai.resources.chat.completions.AsyncCompletions object at 0x000001BBD302FF50>, root_client=<openai.OpenAI object at 0x000001BBD3459190>, root_async_client=<openai.AsyncOpenAI object at 0x000001BBD34594F0>, model_name='gpt-4o-mini', model_kwargs={}, openai_api_key=SecretStr('**********')),\n",
       " 'advanced physics': ChatPromptTemplate(input_variables=['input'], input_types={}, partial_variables={}, messages=[HumanMessagePromptTemplate(prompt=PromptTemplate(input_variables=['input'], input_types={}, partial_variables={}, template='You are a world expert physics professor who explains physics topics\\nto advanced audience members. You can assume anyone you answer has a \\nPhD level understanding of Physics.\\n\\nHere is the question: {input}'), additional_kwargs={})])\n",
       " | ChatOpenAI(client=<openai.resources.chat.completions.Completions object at 0x000001BBD3458C50>, async_client=<openai.resources.chat.completions.AsyncCompletions object at 0x000001BBD302FF50>, root_client=<openai.OpenAI object at 0x000001BBD3459190>, root_async_client=<openai.AsyncOpenAI object at 0x000001BBD34594F0>, model_name='gpt-4o-mini', model_kwargs={}, openai_api_key=SecretStr('**********'))}"
      ]
     },
     "execution_count": 53,
     "metadata": {},
     "output_type": "execute_result"
    }
   ],
   "source": [
    "destination_chains"
   ]
  },
  {
   "cell_type": "code",
   "execution_count": 54,
   "metadata": {},
   "outputs": [
    {
     "ename": "AttributeError",
     "evalue": "'RunnableSequence' object has no attribute 'get'",
     "output_type": "error",
     "traceback": [
      "\u001b[1;31m---------------------------------------------------------------------------\u001b[0m",
      "\u001b[1;31mAttributeError\u001b[0m                            Traceback (most recent call last)",
      "Cell \u001b[1;32mIn[54], line 1\u001b[0m\n\u001b[1;32m----> 1\u001b[0m chain \u001b[38;5;241m=\u001b[39m \u001b[43mMultiPromptChain\u001b[49m\u001b[43m(\u001b[49m\u001b[43mrouter_chain\u001b[49m\u001b[38;5;241;43m=\u001b[39;49m\u001b[43mrouter_chain\u001b[49m\u001b[43m,\u001b[49m\n\u001b[0;32m      2\u001b[0m \u001b[43m                         \u001b[49m\u001b[43mdestination_chains\u001b[49m\u001b[38;5;241;43m=\u001b[39;49m\u001b[43mdestination_chains\u001b[49m\u001b[43m,\u001b[49m\n\u001b[0;32m      3\u001b[0m \u001b[43m                         \u001b[49m\u001b[43mdefault_chain\u001b[49m\u001b[38;5;241;43m=\u001b[39;49m\u001b[43mdefault_chain\u001b[49m\u001b[43m,\u001b[49m\n\u001b[0;32m      4\u001b[0m \u001b[43m                         \u001b[49m\u001b[43mverbose\u001b[49m\u001b[38;5;241;43m=\u001b[39;49m\u001b[38;5;28;43;01mTrue\u001b[39;49;00m\u001b[43m)\u001b[49m\n",
      "File \u001b[1;32mc:\\Users\\julia\\Projetos\\langchain-bootcamp\\Lib\\site-packages\\langchain_core\\_api\\deprecation.py:216\u001b[0m, in \u001b[0;36mdeprecated.<locals>.deprecate.<locals>.finalize.<locals>.warn_if_direct_instance\u001b[1;34m(self, *args, **kwargs)\u001b[0m\n\u001b[0;32m    214\u001b[0m     warned \u001b[38;5;241m=\u001b[39m \u001b[38;5;28;01mTrue\u001b[39;00m\n\u001b[0;32m    215\u001b[0m     emit_warning()\n\u001b[1;32m--> 216\u001b[0m \u001b[38;5;28;01mreturn\u001b[39;00m \u001b[43mwrapped\u001b[49m\u001b[43m(\u001b[49m\u001b[38;5;28;43mself\u001b[39;49m\u001b[43m,\u001b[49m\u001b[43m \u001b[49m\u001b[38;5;241;43m*\u001b[39;49m\u001b[43margs\u001b[49m\u001b[43m,\u001b[49m\u001b[43m \u001b[49m\u001b[38;5;241;43m*\u001b[39;49m\u001b[38;5;241;43m*\u001b[39;49m\u001b[43mkwargs\u001b[49m\u001b[43m)\u001b[49m\n",
      "File \u001b[1;32mc:\\Users\\julia\\Projetos\\langchain-bootcamp\\Lib\\site-packages\\langchain_core\\load\\serializable.py:111\u001b[0m, in \u001b[0;36mSerializable.__init__\u001b[1;34m(self, *args, **kwargs)\u001b[0m\n\u001b[0;32m    109\u001b[0m \u001b[38;5;28;01mdef\u001b[39;00m \u001b[38;5;21m__init__\u001b[39m(\u001b[38;5;28mself\u001b[39m, \u001b[38;5;241m*\u001b[39margs: Any, \u001b[38;5;241m*\u001b[39m\u001b[38;5;241m*\u001b[39mkwargs: Any) \u001b[38;5;241m-\u001b[39m\u001b[38;5;241m>\u001b[39m \u001b[38;5;28;01mNone\u001b[39;00m:\n\u001b[0;32m    110\u001b[0m \u001b[38;5;250m    \u001b[39m\u001b[38;5;124;03m\"\"\"\"\"\"\u001b[39;00m\n\u001b[1;32m--> 111\u001b[0m     \u001b[38;5;28;43msuper\u001b[39;49m\u001b[43m(\u001b[49m\u001b[43m)\u001b[49m\u001b[38;5;241;43m.\u001b[39;49m\u001b[38;5;21;43m__init__\u001b[39;49m\u001b[43m(\u001b[49m\u001b[38;5;241;43m*\u001b[39;49m\u001b[43margs\u001b[49m\u001b[43m,\u001b[49m\u001b[43m \u001b[49m\u001b[38;5;241;43m*\u001b[39;49m\u001b[38;5;241;43m*\u001b[39;49m\u001b[43mkwargs\u001b[49m\u001b[43m)\u001b[49m\n",
      "    \u001b[1;31m[... skipping hidden 1 frame]\u001b[0m\n",
      "File \u001b[1;32mc:\\Users\\julia\\Projetos\\langchain-bootcamp\\Lib\\site-packages\\langchain\\chains\\base.py:236\u001b[0m, in \u001b[0;36mChain.raise_callback_manager_deprecation\u001b[1;34m(cls, values)\u001b[0m\n\u001b[0;32m    232\u001b[0m \u001b[38;5;129m@model_validator\u001b[39m(mode\u001b[38;5;241m=\u001b[39m\u001b[38;5;124m\"\u001b[39m\u001b[38;5;124mbefore\u001b[39m\u001b[38;5;124m\"\u001b[39m)\n\u001b[0;32m    233\u001b[0m \u001b[38;5;129m@classmethod\u001b[39m\n\u001b[0;32m    234\u001b[0m \u001b[38;5;28;01mdef\u001b[39;00m \u001b[38;5;21mraise_callback_manager_deprecation\u001b[39m(\u001b[38;5;28mcls\u001b[39m, values: Dict) \u001b[38;5;241m-\u001b[39m\u001b[38;5;241m>\u001b[39m Any:\n\u001b[0;32m    235\u001b[0m \u001b[38;5;250m    \u001b[39m\u001b[38;5;124;03m\"\"\"Raise deprecation warning if callback_manager is used.\"\"\"\u001b[39;00m\n\u001b[1;32m--> 236\u001b[0m     \u001b[38;5;28;01mif\u001b[39;00m \u001b[43mvalues\u001b[49m\u001b[38;5;241;43m.\u001b[39;49m\u001b[43mget\u001b[49m(\u001b[38;5;124m\"\u001b[39m\u001b[38;5;124mcallback_manager\u001b[39m\u001b[38;5;124m\"\u001b[39m) \u001b[38;5;129;01mis\u001b[39;00m \u001b[38;5;129;01mnot\u001b[39;00m \u001b[38;5;28;01mNone\u001b[39;00m:\n\u001b[0;32m    237\u001b[0m         \u001b[38;5;28;01mif\u001b[39;00m values\u001b[38;5;241m.\u001b[39mget(\u001b[38;5;124m\"\u001b[39m\u001b[38;5;124mcallbacks\u001b[39m\u001b[38;5;124m\"\u001b[39m) \u001b[38;5;129;01mis\u001b[39;00m \u001b[38;5;129;01mnot\u001b[39;00m \u001b[38;5;28;01mNone\u001b[39;00m:\n\u001b[0;32m    238\u001b[0m             \u001b[38;5;28;01mraise\u001b[39;00m \u001b[38;5;167;01mValueError\u001b[39;00m(\n\u001b[0;32m    239\u001b[0m                 \u001b[38;5;124m\"\u001b[39m\u001b[38;5;124mCannot specify both callback_manager and callbacks. \u001b[39m\u001b[38;5;124m\"\u001b[39m\n\u001b[0;32m    240\u001b[0m                 \u001b[38;5;124m\"\u001b[39m\u001b[38;5;124mcallback_manager is deprecated, callbacks is the preferred \u001b[39m\u001b[38;5;124m\"\u001b[39m\n\u001b[0;32m    241\u001b[0m                 \u001b[38;5;124m\"\u001b[39m\u001b[38;5;124mparameter to pass in.\u001b[39m\u001b[38;5;124m\"\u001b[39m\n\u001b[0;32m    242\u001b[0m             )\n",
      "File \u001b[1;32mc:\\Users\\julia\\Projetos\\langchain-bootcamp\\Lib\\site-packages\\pydantic\\main.py:856\u001b[0m, in \u001b[0;36mBaseModel.__getattr__\u001b[1;34m(self, item)\u001b[0m\n\u001b[0;32m    853\u001b[0m     \u001b[38;5;28;01mreturn\u001b[39;00m \u001b[38;5;28msuper\u001b[39m()\u001b[38;5;241m.\u001b[39m\u001b[38;5;21m__getattribute__\u001b[39m(item)  \u001b[38;5;66;03m# Raises AttributeError if appropriate\u001b[39;00m\n\u001b[0;32m    854\u001b[0m \u001b[38;5;28;01melse\u001b[39;00m:\n\u001b[0;32m    855\u001b[0m     \u001b[38;5;66;03m# this is the current error\u001b[39;00m\n\u001b[1;32m--> 856\u001b[0m     \u001b[38;5;28;01mraise\u001b[39;00m \u001b[38;5;167;01mAttributeError\u001b[39;00m(\u001b[38;5;124mf\u001b[39m\u001b[38;5;124m'\u001b[39m\u001b[38;5;132;01m{\u001b[39;00m\u001b[38;5;28mtype\u001b[39m(\u001b[38;5;28mself\u001b[39m)\u001b[38;5;241m.\u001b[39m\u001b[38;5;18m__name__\u001b[39m\u001b[38;5;132;01m!r}\u001b[39;00m\u001b[38;5;124m object has no attribute \u001b[39m\u001b[38;5;132;01m{\u001b[39;00mitem\u001b[38;5;132;01m!r}\u001b[39;00m\u001b[38;5;124m'\u001b[39m)\n",
      "\u001b[1;31mAttributeError\u001b[0m: 'RunnableSequence' object has no attribute 'get'"
     ]
    }
   ],
   "source": [
    "chain = MultiPromptChain(router_chain=router_chain,\n",
    "                         destination_chains=destination_chains,\n",
    "                         default_chain=default_chain,\n",
    "                         verbose=True)"
   ]
  },
  {
   "cell_type": "code",
   "execution_count": 55,
   "metadata": {},
   "outputs": [],
   "source": [
    "from operator import itemgetter\n",
    "from typing import Literal\n",
    "from typing_extensions import TypedDict\n",
    "\n",
    "from langchain_core.output_parsers import StrOutputParser\n",
    "from langchain_core.prompts import ChatPromptTemplate\n",
    "from langchain_core.runnables import RunnableLambda, RunnablePassthrough\n",
    "from langchain_openai import ChatOpenAI\n",
    "\n",
    "llm = ChatOpenAI(model=\"gpt-4o-mini\")"
   ]
  },
  {
   "cell_type": "code",
   "execution_count": 71,
   "metadata": {},
   "outputs": [],
   "source": [
    "beginner_template = '''You are a physics teacher who is really\n",
    "focused on beginners and explaining complex topics in simple to understand terms. \n",
    "You assume no prior knowledge and do not give excessively long answers.\\n\\nHere is the question: {query}'''\n",
    "\n",
    "expert_template = '''You are a world expert physics professor who explains physics topics\n",
    "to advanced audience members. You can assume anyone you answer has a \n",
    "PhD level understanding of Physics.\\n\\nHere is the question: {query}'''"
   ]
  },
  {
   "cell_type": "code",
   "execution_count": 72,
   "metadata": {},
   "outputs": [],
   "source": [
    "destination_chains\n",
    "\n",
    "beginner_prompt = ChatPromptTemplate.from_messages(\n",
    "    [\n",
    "        ('system', beginner_template),\n",
    "        ('human', '{query}')\n",
    "    ]\n",
    ")\n",
    "\n",
    "expert_prompt = ChatPromptTemplate.from_messages(\n",
    "    [\n",
    "        ('system', expert_template),\n",
    "        ('human', '{query}')\n",
    "    ]\n",
    ")\n",
    "\n",
    "beginner_chain = beginner_prompt | llm | StrOutputParser()\n",
    "expert_chain = expert_prompt | llm | StrOutputParser()\n"
   ]
  },
  {
   "cell_type": "code",
   "execution_count": 75,
   "metadata": {},
   "outputs": [],
   "source": [
    "route_system = \"Route the user's query to either the beginner or expert physics model.\"\n",
    "route_prompt = ChatPromptTemplate.from_messages(\n",
    "    [\n",
    "        (\"system\", route_system),\n",
    "        (\"human\", \"{query}\"),\n",
    "    ]\n",
    ")"
   ]
  },
  {
   "cell_type": "code",
   "execution_count": 110,
   "metadata": {},
   "outputs": [],
   "source": [
    "class RouteQuery(TypedDict):\n",
    "    \"\"\"Route query to destination.\"\"\"\n",
    "    destination: Literal[\"beginner\", \"expert\"]\n",
    "\n",
    "\n",
    "route_chain = (\n",
    "    route_prompt\n",
    "    | llm.with_structured_output(RouteQuery)\n",
    "    | itemgetter(\"destination\")\n",
    ")"
   ]
  },
  {
   "cell_type": "code",
   "execution_count": 111,
   "metadata": {},
   "outputs": [
    {
     "data": {
      "text/plain": [
       "{}"
      ]
     },
     "execution_count": 111,
     "metadata": {},
     "output_type": "execute_result"
    }
   ],
   "source": [
    "RouteQuery()"
   ]
  },
  {
   "cell_type": "code",
   "execution_count": 112,
   "metadata": {},
   "outputs": [
    {
     "data": {
      "text/plain": [
       "'expert'"
      ]
     },
     "execution_count": 112,
     "metadata": {},
     "output_type": "execute_result"
    }
   ],
   "source": [
    "route_chain.invoke(input={'query': 'explain Feynman diagrams'})"
   ]
  },
  {
   "cell_type": "code",
   "execution_count": 108,
   "metadata": {},
   "outputs": [],
   "source": [
    "chain = {\n",
    "    \"destination\": route_chain,\n",
    "    \"query\": lambda x: x[\"query\"],\n",
    "} | RunnableLambda(\n",
    "    lambda x: beginner_chain if x['destination'] == 'beginner' else expert_chain,\n",
    ") \n"
   ]
  },
  {
   "cell_type": "code",
   "execution_count": 109,
   "metadata": {},
   "outputs": [
    {
     "name": "stdout",
     "output_type": "stream",
     "text": [
      "first={\n",
      "  destination: ChatPromptTemplate(input_variables=['query'], input_types={}, partial_variables={}, messages=[SystemMessagePromptTemplate(prompt=PromptTemplate(input_variables=[], input_types={}, partial_variables={}, template=\"Route the user's query to either the beginner or expert physics model.\"), additional_kwargs={}), HumanMessagePromptTemplate(prompt=PromptTemplate(input_variables=['query'], input_types={}, partial_variables={}, template='{query}'), additional_kwargs={})])\n",
      "               | RunnableBinding(bound=ChatOpenAI(client=<openai.resources.chat.completions.Completions object at 0x000001BBD345F170>, async_client=<openai.resources.chat.completions.AsyncCompletions object at 0x000001BBD3461520>, root_client=<openai.OpenAI object at 0x000001BBD302DC10>, root_async_client=<openai.AsyncOpenAI object at 0x000001BBD345F4A0>, model_name='gpt-4o-mini', model_kwargs={}, openai_api_key=SecretStr('**********')), kwargs={'tools': [{'type': 'function', 'function': {'name': 'RouteQuery', 'description': 'Route query to destination.', 'parameters': {'type': 'object', 'properties': {'destination': {'enum': ['beginner', 'expert'], 'type': 'string'}}, 'required': ['destination']}}}], 'parallel_tool_calls': False, 'tool_choice': {'type': 'function', 'function': {'name': 'RouteQuery'}}}, config={}, config_factories=[])\n",
      "               | JsonOutputKeyToolsParser(first_tool_only=True, key_name='RouteQuery'),\n",
      "  query: RunnableLambda(...)\n",
      "} middle=[] last=RunnableLambda(lambda x: beginner_chain if x['destination'] == 'beginner' else expert_chain)\n"
     ]
    }
   ],
   "source": [
    "print(chain)"
   ]
  },
  {
   "cell_type": "code",
   "execution_count": 104,
   "metadata": {},
   "outputs": [
    {
     "ename": "AttributeError",
     "evalue": "'dict' object has no attribute 'invoke'",
     "output_type": "error",
     "traceback": [
      "\u001b[1;31m---------------------------------------------------------------------------\u001b[0m",
      "\u001b[1;31mAttributeError\u001b[0m                            Traceback (most recent call last)",
      "Cell \u001b[1;32mIn[104], line 1\u001b[0m\n\u001b[1;32m----> 1\u001b[0m \u001b[38;5;28mprint\u001b[39m(\u001b[43mchain\u001b[49m\u001b[38;5;241;43m.\u001b[39;49m\u001b[43minvoke\u001b[49m({\u001b[38;5;124m\"\u001b[39m\u001b[38;5;124mquery\u001b[39m\u001b[38;5;124m\"\u001b[39m: \u001b[38;5;124m\"\u001b[39m\u001b[38;5;124mhow does magnets work?\u001b[39m\u001b[38;5;124m\"\u001b[39m}))\n",
      "\u001b[1;31mAttributeError\u001b[0m: 'dict' object has no attribute 'invoke'"
     ]
    }
   ],
   "source": [
    "print(chain.invoke({\"query\": \"how does magnets work?\"}))"
   ]
  },
  {
   "cell_type": "code",
   "execution_count": 95,
   "metadata": {},
   "outputs": [
    {
     "name": "stdout",
     "output_type": "stream",
     "text": [
      "Feynman diagrams are a powerful pictorial representation of the interactions between particles in quantum field theory, particularly in the context of quantum electrodynamics (QED) and other gauge theories. They serve as a convenient tool for visualizing and calculating the probabilities of various scattering processes and decay events.\n",
      "\n",
      "At a fundamental level, Feynman diagrams provide a way to encapsulate the perturbative expansion of the scattering amplitude in terms of simple graphical elements. Each element in a Feynman diagram corresponds to a specific mathematical term in the perturbation series.\n",
      "\n",
      "**Key Components of Feynman Diagrams:**\n",
      "\n",
      "1. **Lines:**\n",
      "   - **Internal Lines:** Represent virtual particles that mediate interactions between real particles. These lines correspond to internal propagators in the mathematical formulation, typically expressed via Green's functions.\n",
      "   - **External Lines:** Represent incoming and outgoing real particles in the scattering process. These lines are associated with the physical states of the particles.\n",
      "\n",
      "2. **Vertices:**\n",
      "   - Each vertex in a Feynman diagram denotes an interaction point where particles collide or interact. The number of lines meeting at a vertex corresponds to the interaction vertex dictated by the underlying quantum field theory. For instance, in QED, the vertex connects an electron, a positron, and a photon.\n",
      "\n",
      "3. **Time and Space:**\n",
      "   - Feynman diagrams are typically drawn in a two-dimensional space, where the horizontal axis often represents time (or some parameter related to energy) and the vertical axis represents space (or momentum). However, the diagrams are not strictly time-ordered; they serve more as a bookkeeping device for the contributions to the amplitude.\n",
      "\n",
      "4. **Mathematical Correspondence:**\n",
      "   - Each diagram can be associated with a mathematical expression derived from the perturbative expansion of the S-matrix or the time-ordered product of field operators. The rules for translating diagrams into mathematical expressions include:\n",
      "     - Assigning momenta to incoming/outgoing lines and conserving momentum at each vertex.\n",
      "     - Assigning factors for each internal propagator and vertex according to the specific coupling constants of the theory.\n",
      "\n",
      "5. **Loop Diagrams:**\n",
      "   - Diagrams can contain loops, which represent virtual particles that are not directly observable. These loops contribute to higher-order corrections in perturbation theory and often lead to phenomena such as renormalization.\n",
      "\n",
      "6. **Cross Sections and Decay Rates:**\n",
      "   - Feynman diagrams are instrumental in calculating quantities like scattering cross sections and decay rates by allowing physicists to systematically account for all possible interaction processes.\n",
      "\n",
      "**Interpretation and Limitations:**\n",
      "While Feynman diagrams provide an intuitive means of visualizing particle interactions, they are fundamentally a part of a perturbative expansion and can become unwieldy for processes involving many particles or higher-order corrections. Moreover, divergences that arise in loop diagrams necessitate the use of renormalization techniques, which address the need to redefine quantities to yield finite results.\n",
      "\n",
      "In summary, Feynman diagrams encapsulate complex quantum interactions in a comprehensible form, aiding in both qualitative understanding and quantitative calculations in particle physics. They represent a bridge between the abstract formalism of quantum field theory and concrete physical processes.\n"
     ]
    }
   ],
   "source": [
    "print(chain.invoke({\"query\": \"explain feynman diagrams?\"}))"
   ]
  },
  {
   "cell_type": "code",
   "execution_count": null,
   "metadata": {},
   "outputs": [],
   "source": []
  },
  {
   "cell_type": "code",
   "execution_count": null,
   "metadata": {},
   "outputs": [],
   "source": []
  },
  {
   "cell_type": "code",
   "execution_count": null,
   "metadata": {},
   "outputs": [],
   "source": []
  },
  {
   "cell_type": "code",
   "execution_count": null,
   "metadata": {},
   "outputs": [],
   "source": []
  },
  {
   "cell_type": "code",
   "execution_count": null,
   "metadata": {},
   "outputs": [],
   "source": []
  },
  {
   "cell_type": "code",
   "execution_count": 74,
   "metadata": {},
   "outputs": [
    {
     "name": "stdout",
     "output_type": "stream",
     "text": [
      "Given a raw text input to a language model select the model prompt best suited for the input. You will be given the names of the available prompts and a description of what the prompt is best suited for. You may also revise the original input if you think that revising it will ultimately lead to a better response from the language model.\n",
      "\n",
      "<< FORMATTING >>\n",
      "Return a markdown code snippet with a JSON object formatted to look like:\n",
      "```json\n",
      "{{\n",
      "    \"destination\": string \\ name of the prompt to use or \"DEFAULT\"\n",
      "    \"next_inputs\": string \\ a potentially modified version of the original input\n",
      "}}\n",
      "```\n",
      "\n",
      "REMEMBER: \"destination\" MUST be one of the candidate prompt names specified below OR it can be \"DEFAULT\" if the input is not well suited for any of the candidate prompts.\n",
      "REMEMBER: \"next_inputs\" can just be the original input if you don't think any modifications are needed.\n",
      "\n",
      "<< CANDIDATE PROMPTS >>\n",
      "beginner physics: answer basic physics questions\n",
      "advanced physics: answers advanced physics questions\n",
      "\n",
      "<< INPUT >>\n",
      "{input}\n",
      "\n",
      "<< OUTPUT (must include ```json at the start of the response) >>\n",
      "<< OUTPUT (must end with ```) >>\n",
      "\n"
     ]
    }
   ],
   "source": [
    "print(router_template)"
   ]
  },
  {
   "cell_type": "code",
   "execution_count": 66,
   "metadata": {},
   "outputs": [
    {
     "data": {
      "text/plain": [
       "AIMessage(content='Great question! Let’s break it down in a simple way.\\n\\n### What Are Magnets?\\n\\nMagnets are objects that can attract or repel other magnets and certain materials, like iron. They have two ends, called **poles**: a **north pole** and a **south pole**. \\n\\n### How Do They Work?\\n\\n1. **Magnetic Fields**: Magnets create an invisible area around them called a **magnetic field**. This field is what allows them to attract or repel other materials. You can think of it like a force field that extends around the magnet.\\n\\n2. **Atoms and Electrons**: The reason magnets work has to do with the tiny particles that make up everything around us, called **atoms**. Inside atoms, there are even smaller particles called **electrons**. Electrons can move and spin, and when they do, they create a tiny magnetic field.\\n\\n3. **Alignment**: In most materials, the magnetic fields of the electrons are all jumbled up, and they cancel each other out. However, in magnets, many of these tiny magnetic fields are aligned in the same direction. This alignment creates a stronger overall magnetic field.\\n\\n4. **Attraction and Repulsion**: \\n   - When you bring two magnets close to each other, the north pole of one magnet will attract the south pole of the other magnet. This is called **attraction**.\\n   - If you try to bring two north poles or two south poles together, they will push away from each other. This is called **repulsion**.\\n\\n### Types of Magnets\\n\\n- **Permanent Magnets**: These are magnets that keep their magnetic properties over time, like the ones on your refrigerator.\\n- **Temporary Magnets**: These are materials that can become magnets when they are near a magnet but lose their magnetism when the magnet is removed, like some types of iron.\\n- **Electromagnets**: These are magnets created by electricity. When you run an electric current through a wire, it creates a magnetic field. This is how devices like electric motors and magnetic cranes work.\\n\\n### Everyday Examples\\n\\nYou see magnets used in many everyday items:\\n- Refrigerator magnets help hold notes on the fridge.\\n- Magnetic strips on credit cards store information.\\n- Speakers use magnets to produce sound.\\n\\n### Summary\\n\\nIn summary, magnets work due to the alignment of tiny magnetic fields created by electrons in atoms. Their ability to attract or repel each other is what makes them so useful in our everyday lives. Understanding the basics of how they work can help you appreciate the many ways we use magnets!', additional_kwargs={'refusal': None}, response_metadata={'token_usage': {'completion_tokens': 529, 'prompt_tokens': 55, 'total_tokens': 584, 'completion_tokens_details': {'audio_tokens': None, 'reasoning_tokens': 0}, 'prompt_tokens_details': {'audio_tokens': None, 'cached_tokens': 0}}, 'model_name': 'gpt-4o-mini-2024-07-18', 'system_fingerprint': 'fp_e2bde53e6e', 'finish_reason': 'stop', 'logprobs': None}, id='run-cdb70db8-d8cc-42cd-8d75-f475fcfb8e3a-0', usage_metadata={'input_tokens': 55, 'output_tokens': 529, 'total_tokens': 584, 'input_token_details': {'cache_read': 0}, 'output_token_details': {'reasoning': 0}})"
      ]
     },
     "execution_count": 66,
     "metadata": {},
     "output_type": "execute_result"
    }
   ],
   "source": [
    "beginner_chain.invoke({\"query\": \"how do magnets work?\"})"
   ]
  },
  {
   "cell_type": "code",
   "execution_count": 68,
   "metadata": {},
   "outputs": [
    {
     "data": {
      "text/plain": [
       "'Great question! Let’s break it down simply.\\n\\n**What Are Magnets?**\\nMagnets are objects that can attract certain types of materials, like iron, nickel, and cobalt. They have two ends called \"poles\" – one is the North Pole and the other is the South Pole.\\n\\n**How Do They Work?**\\nAt the most basic level, magnets work because of the arrangement of tiny particles called atoms. Inside each atom, there are even smaller particles called electrons that move around. These electrons create tiny magnetic fields. \\n\\nIn most materials, these tiny magnetic fields point in different directions, so they cancel each other out, and the material doesn\\'t act like a magnet. However, in magnetic materials, many of these tiny magnetic fields can line up in the same direction. When enough of them line up, the material itself becomes a magnet!\\n\\n**The Magnetic Field:**\\nEvery magnet creates an invisible area around it called a magnetic field. This is the space where the magnet can exert a force on other magnetic materials. You can think of the magnetic field like the air around a fan – you can’t see it, but you can feel it if you get close enough.\\n\\n**Attraction and Repulsion:**\\nHere’s something interesting: opposite poles attract each other (North to South), while like poles repel each other (North to North or South to South). This means if you try to put two North poles together, they will push away from each other, while a North and a South pole will pull towards each other.\\n\\n**Everyday Examples:**\\nYou can see magnets at work in everyday life. For example, refrigerator magnets stick to your fridge because they are attracted to the metal in it. Similarly, compasses use magnets to point to the Earth\\'s magnetic North, helping us find our way.\\n\\nIn summary, magnets work because of the way tiny particles in certain materials are arranged. Their magnetic fields influence other materials, causing attractions and repulsions. It’s a fascinating and important part of physics!'"
      ]
     },
     "execution_count": 68,
     "metadata": {},
     "output_type": "execute_result"
    }
   ],
   "source": [
    "beginner_chain.invoke({\"query\": \"how do magnets work?\"})"
   ]
  },
  {
   "cell_type": "code",
   "execution_count": 69,
   "metadata": {},
   "outputs": [
    {
     "name": "stdout",
     "output_type": "stream",
     "text": [
      "Great question! Magnets are fascinating objects, and understanding how they work can be quite simple. Let’s break it down step by step.\n",
      "\n",
      "### What is a Magnet?\n",
      "\n",
      "A magnet is a material that can produce a magnetic field. This magnetic field is what allows magnets to attract or repel certain materials, like iron, cobalt, and nickel.\n",
      "\n",
      "### The Basics of Magnetism\n",
      "\n",
      "1. **Magnetic Poles**: Every magnet has two ends called poles: a **north pole** and a **south pole**. If you’ve ever played with magnets, you might have noticed that when you try to push together two north poles or two south poles, they repel each other (push away). But if you bring a north pole near a south pole, they attract (pull together). This is a key property of magnets!\n",
      "\n",
      "2. **Magnetic Field**: A magnetic field is an invisible area around a magnet where magnetic forces can be felt. You can think of it like a bubble around the magnet. The strength of this field decreases with distance; the closer you are to the magnet, the stronger the effect.\n",
      "\n",
      "### How Do Magnets Work?\n",
      "\n",
      "Magnets work thanks to tiny particles inside them called **atoms**. Atoms are the building blocks of everything around us. In most materials, the magnetic effects of atoms cancel each other out. But in magnets, many of the atoms are aligned in the same direction, which allows their magnetic forces to add up and create a strong magnetic field.\n",
      "\n",
      "### Permanent vs. Temporary Magnets\n",
      "\n",
      "- **Permanent Magnets**: These are materials that maintain their magnetic properties over time. Common examples include fridge magnets and bar magnets. They are made from materials that have been treated to keep the atoms aligned.\n",
      "\n",
      "- **Temporary Magnets**: These materials can become magnetized when they are in a magnetic field (like a paperclip when it touches a magnet), but they lose their magnetism when the magnetic field is removed.\n",
      "\n",
      "### Everyday Examples\n",
      "\n",
      "1. **Fridge Magnets**: These stick to your fridge because the magnet's north and south poles are attracting the metal in the fridge door.\n",
      "\n",
      "2. **Magnetic Compasses**: These use a small magnet that points towards the Earth's magnetic north, helping you find your direction.\n",
      "\n",
      "3. **Electromagnets**: These are special magnets created using electricity. When electric current flows through a wire wrapped around a metal core, it becomes magnetic. This is how many devices, like electric motors, work!\n",
      "\n",
      "### Summary\n",
      "\n",
      "In simple terms, magnets work because of the way the atoms inside them are arranged. The north and south poles create magnetic fields that can attract or repel materials. Understanding magnets opens the door to exploring many interesting concepts in physics, including electricity and how various devices function!\n",
      "\n",
      "Feel free to ask if you have more questions about magnets or any other topic!\n"
     ]
    }
   ],
   "source": [
    "print(beginner_chain.invoke({\"query\": \"how do magnets work?\"}))"
   ]
  },
  {
   "cell_type": "code",
   "execution_count": null,
   "metadata": {},
   "outputs": [],
   "source": []
  }
 ],
 "metadata": {
  "kernelspec": {
   "display_name": "langchain-bootcamp",
   "language": "python",
   "name": "python3"
  },
  "language_info": {
   "codemirror_mode": {
    "name": "ipython",
    "version": 3
   },
   "file_extension": ".py",
   "mimetype": "text/x-python",
   "name": "python",
   "nbconvert_exporter": "python",
   "pygments_lexer": "ipython3",
   "version": "3.12.4"
  }
 },
 "nbformat": 4,
 "nbformat_minor": 2
}
