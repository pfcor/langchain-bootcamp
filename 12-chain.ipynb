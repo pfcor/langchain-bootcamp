{
 "cells": [
  {
   "cell_type": "markdown",
   "metadata": {},
   "source": [
    "# simple chain"
   ]
  },
  {
   "cell_type": "code",
   "execution_count": 1,
   "metadata": {},
   "outputs": [],
   "source": [
    "from langchain_openai import ChatOpenAI\n",
    "from langchain.prompts import (\n",
    "    ChatPromptTemplate,\n",
    "    HumanMessagePromptTemplate\n",
    ")"
   ]
  },
  {
   "cell_type": "code",
   "execution_count": 15,
   "metadata": {},
   "outputs": [],
   "source": [
    "human_template = \"make a funny company name thar makes {size} {product}.\"\n",
    "human_prompt = HumanMessagePromptTemplate.from_template(human_template)\n",
    "\n",
    "chat_prompt = ChatPromptTemplate([human_prompt])"
   ]
  },
  {
   "cell_type": "code",
   "execution_count": 25,
   "metadata": {},
   "outputs": [],
   "source": [
    "llm = ChatOpenAI(model=\"gpt-4o-mini\")"
   ]
  },
  {
   "cell_type": "code",
   "execution_count": 26,
   "metadata": {},
   "outputs": [],
   "source": [
    "from langchain.chains import LLMChain\n",
    "\n",
    "# chain = LLMChain(llm=llm, prompt=chat_prompt)\n",
    "chain = chat_prompt | llm"
   ]
  },
  {
   "cell_type": "code",
   "execution_count": 27,
   "metadata": {},
   "outputs": [
    {
     "data": {
      "text/plain": [
       "'\"Byte-Sized Wonders\"'"
      ]
     },
     "execution_count": 27,
     "metadata": {},
     "output_type": "execute_result"
    }
   ],
   "source": [
    "result = chain.invoke(input={'size': 'tiny', 'product': 'computers'})\n",
    "result.content"
   ]
  },
  {
   "cell_type": "code",
   "execution_count": 22,
   "metadata": {},
   "outputs": [],
   "source": [
    "from langchain.chains import SimpleSequentialChain"
   ]
  },
  {
   "cell_type": "code",
   "execution_count": 71,
   "metadata": {},
   "outputs": [],
   "source": [
    "# input : topic -> [[ outline -> write post ]] -> output : blog text\n",
    "\n",
    "outline_template = \"Give me a simple bullet point outline for a blog post on {topic}. Return only the outline with no other comments\"\n",
    "outline_prompt = ChatPromptTemplate.from_template(outline_template)\n",
    "outline_chain = outline_prompt | llm\n",
    "outline_chain = LLMChain(llm=llm, prompt=outline_prompt)\n",
    "\n",
    "write_post_template = \"Write a short blog post using this outline:\\n\\n{outline}\"\n",
    "write_post_prompt = ChatPromptTemplate.from_template(write_post_template)\n",
    "write_post_chain = write_post_prompt | llm\n",
    "write_post_chain = LLMChain(llm=llm, prompt=write_post_prompt)\n"
   ]
  },
  {
   "cell_type": "code",
   "execution_count": 56,
   "metadata": {},
   "outputs": [
    {
     "name": "stdout",
     "output_type": "stream",
     "text": [
      "\n",
      "\n",
      "\u001b[1m> Entering new SimpleSequentialChain chain...\u001b[0m\n",
      "\u001b[36;1m\u001b[1;3m- Introduction to Cheesecake  \n",
      "  - Brief history of cheesecake  \n",
      "  - Popularity and variations worldwide  \n",
      "\n",
      "- Types of Cheesecake  \n",
      "  - New York-style cheesecake  \n",
      "  - No-bake cheesecake  \n",
      "  - Japanese cotton cheesecake  \n",
      "  - Vegan cheesecake  \n",
      "\n",
      "- Key Ingredients  \n",
      "  - Cream cheese  \n",
      "  - Sugar  \n",
      "  - Eggs  \n",
      "  - Crust options (graham cracker, cookie, etc.)  \n",
      "\n",
      "- Step-by-Step Cheesecake Recipe  \n",
      "  - Preparing the crust  \n",
      "  - Making the filling  \n",
      "  - Baking tips  \n",
      "  - Cooling and serving suggestions  \n",
      "\n",
      "- Common Mistakes to Avoid  \n",
      "  - Overmixing the filling  \n",
      "  - Not cooling properly  \n",
      "  - Cracks in the surface  \n",
      "\n",
      "- Creative Toppings and Flavor Variations  \n",
      "  - Fruit toppings  \n",
      "  - Chocolate and caramel drizzles  \n",
      "  - Spices and extracts  \n",
      "\n",
      "- Conclusion  \n",
      "  - Encouragement to try making cheesecake  \n",
      "  - Invitation for readers to share their cheesecake experiences and recipes  \u001b[0m\n",
      "\u001b[33;1m\u001b[1;3m# The Delightful World of Cheesecake: A Creamy Journey\n",
      "\n",
      "Cheesecake is more than just a dessert; it's a delightful experience that has captivated taste buds for centuries. Originating in ancient Greece, where it was served to athletes during the first Olympic Games, cheesecake has evolved into a beloved treat worldwide. From creamy New York-style slices to airy Japanese cotton versions, the dessert has countless variations, each celebrated for its unique flavors and textures.\n",
      "\n",
      "## Types of Cheesecake\n",
      "\n",
      "When it comes to cheesecake, there's a style for everyone:\n",
      "\n",
      "- **New York-style cheesecake** is rich and dense, made primarily with cream cheese and eggs, baked to perfection for a custard-like filling.\n",
      "- **No-bake cheesecake** offers a quick and easy alternative, using whipped cream and gelatin to achieve a smooth, creamy texture without the oven.\n",
      "- **Japanese cotton cheesecake** is light and fluffy, resembling a soufflé, and is known for its airy texture that melts in your mouth.\n",
      "- **Vegan cheesecake** caters to those who prefer plant-based options, using nuts, tofu, or coconut cream to create a deliciously creamy filling without any dairy.\n",
      "\n",
      "## Key Ingredients\n",
      "\n",
      "At the heart of every cheesecake are a few key ingredients:\n",
      "\n",
      "- **Cream cheese** is the star, providing that signature tangy flavor.\n",
      "- **Sugar** adds sweetness, balancing the richness of the cheese.\n",
      "- **Eggs** help bind the filling and create a custard-like consistency.\n",
      "- For the **crust**, options abound, from traditional graham cracker crumbs to crushed cookies or even nut-based crusts for a gluten-free alternative.\n",
      "\n",
      "## Step-by-Step Cheesecake Recipe\n",
      "\n",
      "Ready to whip up your own cheesecake? Here’s a simple recipe to get you started:\n",
      "\n",
      "1. **Preparing the crust**: Crush your choice of graham crackers or cookies and mix with melted butter. Press the mixture firmly into the bottom of a springform pan.\n",
      "   \n",
      "2. **Making the filling**: Beat softened cream cheese with sugar until smooth. Add eggs one at a time, mixing gently to avoid overmixing. Incorporate any flavorings like vanilla or lemon juice.\n",
      "\n",
      "3. **Baking tips**: Pour the filling over the crust and bake in a water bath to help maintain moisture. Bake until just set, but still slightly jiggly in the center.\n",
      "\n",
      "4. **Cooling and serving suggestions**: Allow the cheesecake to cool gradually in the oven with the door ajar to prevent cracks. Chill in the refrigerator for at least four hours before serving.\n",
      "\n",
      "## Common Mistakes to Avoid\n",
      "\n",
      "To ensure cheesecake perfection, keep these pitfalls in mind:\n",
      "\n",
      "- **Overmixing the filling** can introduce too much air, leading to cracks during baking.\n",
      "- **Not cooling properly** can result in a soggy base or cracks on the surface.\n",
      "- **Cracks in the surface** can be minimized by baking slowly and using a water bath.\n",
      "\n",
      "## Creative Toppings and Flavor Variations\n",
      "\n",
      "Once your cheesecake is ready, unleash your creativity with toppings and flavors:\n",
      "\n",
      "- Fresh fruit toppings like berries or caramelized peaches add a refreshing touch.\n",
      "- Drizzles of chocolate or caramel sauce elevate the dessert to new heights.\n",
      "- Experiment with spices—like cinnamon or nutmeg—and extracts, such as almond or peppermint, for unique flavor combinations.\n",
      "\n",
      "## Conclusion\n",
      "\n",
      "Making cheesecake at home can be a rewarding and delicious project. So why not give it a try? Whether you stick to a classic recipe or venture into creative variations, the journey is sure to be sweet. We’d love to hear about your cheesecake adventures—share your experiences and favorite recipes in the comments below! Happy baking!\u001b[0m\n",
      "\n",
      "\u001b[1m> Finished chain.\u001b[0m\n"
     ]
    }
   ],
   "source": [
    "chain = SimpleSequentialChain(chains=[outline_chain, write_post_chain], verbose=True)\n",
    "result = chain.invoke(input={'input':'cheesecake'})"
   ]
  },
  {
   "cell_type": "code",
   "execution_count": 59,
   "metadata": {},
   "outputs": [
    {
     "name": "stdout",
     "output_type": "stream",
     "text": [
      "# The Delightful World of Cheesecake: A Creamy Journey\n",
      "\n",
      "Cheesecake is more than just a dessert; it's a delightful experience that has captivated taste buds for centuries. Originating in ancient Greece, where it was served to athletes during the first Olympic Games, cheesecake has evolved into a beloved treat worldwide. From creamy New York-style slices to airy Japanese cotton versions, the dessert has countless variations, each celebrated for its unique flavors and textures.\n",
      "\n",
      "## Types of Cheesecake\n",
      "\n",
      "When it comes to cheesecake, there's a style for everyone:\n",
      "\n",
      "- **New York-style cheesecake** is rich and dense, made primarily with cream cheese and eggs, baked to perfection for a custard-like filling.\n",
      "- **No-bake cheesecake** offers a quick and easy alternative, using whipped cream and gelatin to achieve a smooth, creamy texture without the oven.\n",
      "- **Japanese cotton cheesecake** is light and fluffy, resembling a soufflé, and is known for its airy texture that melts in your mouth.\n",
      "- **Vegan cheesecake** caters to those who prefer plant-based options, using nuts, tofu, or coconut cream to create a deliciously creamy filling without any dairy.\n",
      "\n",
      "## Key Ingredients\n",
      "\n",
      "At the heart of every cheesecake are a few key ingredients:\n",
      "\n",
      "- **Cream cheese** is the star, providing that signature tangy flavor.\n",
      "- **Sugar** adds sweetness, balancing the richness of the cheese.\n",
      "- **Eggs** help bind the filling and create a custard-like consistency.\n",
      "- For the **crust**, options abound, from traditional graham cracker crumbs to crushed cookies or even nut-based crusts for a gluten-free alternative.\n",
      "\n",
      "## Step-by-Step Cheesecake Recipe\n",
      "\n",
      "Ready to whip up your own cheesecake? Here’s a simple recipe to get you started:\n",
      "\n",
      "1. **Preparing the crust**: Crush your choice of graham crackers or cookies and mix with melted butter. Press the mixture firmly into the bottom of a springform pan.\n",
      "   \n",
      "2. **Making the filling**: Beat softened cream cheese with sugar until smooth. Add eggs one at a time, mixing gently to avoid overmixing. Incorporate any flavorings like vanilla or lemon juice.\n",
      "\n",
      "3. **Baking tips**: Pour the filling over the crust and bake in a water bath to help maintain moisture. Bake until just set, but still slightly jiggly in the center.\n",
      "\n",
      "4. **Cooling and serving suggestions**: Allow the cheesecake to cool gradually in the oven with the door ajar to prevent cracks. Chill in the refrigerator for at least four hours before serving.\n",
      "\n",
      "## Common Mistakes to Avoid\n",
      "\n",
      "To ensure cheesecake perfection, keep these pitfalls in mind:\n",
      "\n",
      "- **Overmixing the filling** can introduce too much air, leading to cracks during baking.\n",
      "- **Not cooling properly** can result in a soggy base or cracks on the surface.\n",
      "- **Cracks in the surface** can be minimized by baking slowly and using a water bath.\n",
      "\n",
      "## Creative Toppings and Flavor Variations\n",
      "\n",
      "Once your cheesecake is ready, unleash your creativity with toppings and flavors:\n",
      "\n",
      "- Fresh fruit toppings like berries or caramelized peaches add a refreshing touch.\n",
      "- Drizzles of chocolate or caramel sauce elevate the dessert to new heights.\n",
      "- Experiment with spices—like cinnamon or nutmeg—and extracts, such as almond or peppermint, for unique flavor combinations.\n",
      "\n",
      "## Conclusion\n",
      "\n",
      "Making cheesecake at home can be a rewarding and delicious project. So why not give it a try? Whether you stick to a classic recipe or venture into creative variations, the journey is sure to be sweet. We’d love to hear about your cheesecake adventures—share your experiences and favorite recipes in the comments below! Happy baking!\n"
     ]
    }
   ],
   "source": [
    "print(result['output'])"
   ]
  },
  {
   "cell_type": "code",
   "execution_count": 60,
   "metadata": {},
   "outputs": [],
   "source": [
    "chain = outline_prompt | llm | write_post_prompt | llm\n",
    "result = chain.invoke(input={\"topic\": \"cheesecake\"})\n"
   ]
  },
  {
   "cell_type": "code",
   "execution_count": 61,
   "metadata": {},
   "outputs": [
    {
     "data": {
      "text/plain": [
       "AIMessage(content=\"# The Irresistible Allure of Cheesecake: A Sweet Journey\\n\\n## Introduction\\nCheesecake has secured its place as a beloved dessert around the globe, combining creamy textures and rich flavors that tantalize the taste buds. But where did this delightful treat originate? Let’s take a sweet journey through the history, variations, and techniques to create your very own cheesecake masterpiece.\\n\\n## A Brief History of Cheesecake\\nThe origins of cheesecake date back to ancient Greece, where it was served to athletes during the first Olympic Games. The Romans later adapted this recipe, spreading it throughout Europe. Over the centuries, cheesecake has evolved, giving rise to numerous regional variations, each with its unique twist.\\n\\n## Popularity and Variations Around the World\\nToday, cheesecake is celebrated worldwide, from the rich and dense New York-style to the light and fluffy Japanese cotton cheesecake. Different cultures have embraced it, leading to diverse flavors and toppings. Whether enjoyed plain or adorned with fruits, chocolates, or caramel, cheesecake continues to captivate dessert lovers everywhere.\\n\\n## Types of Cheesecake\\n- **New York-style cheesecake**: Dense, creamy, and rich, this classic is made with cream cheese and has a buttery graham cracker crust.\\n- **No-bake cheesecake**: Perfect for warm weather, this version is set with gelatin and doesn’t require an oven.\\n- **Japanese cotton cheesecake**: Light and airy, this cheesecake has a soufflé-like texture that's achieved by folding meringue into the batter.\\n- **Fruit-topped cheesecake**: A versatile option where seasonal fruits add freshness and color to the creamy base.\\n\\n## Key Ingredients\\nTo create a delicious cheesecake, you'll need:\\n- **Cream cheese**: The star ingredient that provides the creamy texture.\\n- **Sugar**: For sweetness, balancing the tanginess of the cream cheese.\\n- **Eggs**: Essential for structure and richness.\\n- **Crust options**: Typically graham cracker, but cookie crusts or even brownie bases can add a unique flair.\\n\\n## Basic Cheesecake Recipe\\n### Ingredients List\\n- 2 cups cream cheese\\n- 1 cup sugar\\n- 3 large eggs\\n- 1 teaspoon vanilla extract\\n- 1 ½ cups graham cracker crumbs\\n- ½ cup melted butter\\n\\n### Step-by-Step Instructions\\n1. Preheat your oven to 325°F (163°C).\\n2. In a mixing bowl, combine graham cracker crumbs and melted butter. Press the mixture into the bottom of a springform pan.\\n3. In another bowl, beat cream cheese until smooth. Gradually add sugar, mixing until combined.\\n4. Add eggs one at a time, mixing on low speed after each addition. Stir in vanilla.\\n5. Pour the batter over the crust and smooth the top.\\n6. Bake for 50-60 minutes or until the center is set. Allow cooling in the oven with the door ajar to prevent cracking.\\n7. Chill in the refrigerator for at least four hours before serving.\\n\\n### Baking Tips\\n- Use room temperature ingredients for a smoother batter.\\n- Avoid overmixing to prevent excess air, which can lead to cracks.\\n\\n## Common Mistakes to Avoid\\n- **Overmixing the batter**: This can cause a dense texture and cracks.\\n- **Not using room temperature ingredients**: Cold cream cheese can lead to lumps.\\n- **Cracking the surface**: Bake at a low temperature and allow the cheesecake to cool gradually.\\n\\n## Serving Suggestions\\nElevate your cheesecake with delightful toppings like fresh fruits, chocolate ganache, or caramel drizzle. Pair it with a glass of dessert wine or a rich coffee for a perfect finish.\\n\\n## Conclusion\\nMaking cheesecake at home can be a rewarding experience, allowing you to customize flavors and textures to your liking. So, roll up your sleeves and try whipping up a cheesecake today! We’d love to hear about your favorite cheesecake recipes or experiences—share them in the comments below!\", additional_kwargs={'refusal': None}, response_metadata={'token_usage': {'completion_tokens': 800, 'prompt_tokens': 462, 'total_tokens': 1262, 'completion_tokens_details': {'audio_tokens': None, 'reasoning_tokens': 0}, 'prompt_tokens_details': {'audio_tokens': None, 'cached_tokens': 0}}, 'model_name': 'gpt-4o-mini-2024-07-18', 'system_fingerprint': 'fp_e2bde53e6e', 'finish_reason': 'stop', 'logprobs': None}, id='run-99fa5b4f-a5e9-47c5-9c11-f4ef2a9c7a2d-0', usage_metadata={'input_tokens': 462, 'output_tokens': 800, 'total_tokens': 1262, 'input_token_details': {'cache_read': 0}, 'output_token_details': {'reasoning': 0}})"
      ]
     },
     "execution_count": 61,
     "metadata": {},
     "output_type": "execute_result"
    }
   ],
   "source": [
    "result"
   ]
  },
  {
   "cell_type": "code",
   "execution_count": 62,
   "metadata": {},
   "outputs": [
    {
     "name": "stdout",
     "output_type": "stream",
     "text": [
      "# The Irresistible Allure of Cheesecake: A Sweet Journey\n",
      "\n",
      "## Introduction\n",
      "Cheesecake has secured its place as a beloved dessert around the globe, combining creamy textures and rich flavors that tantalize the taste buds. But where did this delightful treat originate? Let’s take a sweet journey through the history, variations, and techniques to create your very own cheesecake masterpiece.\n",
      "\n",
      "## A Brief History of Cheesecake\n",
      "The origins of cheesecake date back to ancient Greece, where it was served to athletes during the first Olympic Games. The Romans later adapted this recipe, spreading it throughout Europe. Over the centuries, cheesecake has evolved, giving rise to numerous regional variations, each with its unique twist.\n",
      "\n",
      "## Popularity and Variations Around the World\n",
      "Today, cheesecake is celebrated worldwide, from the rich and dense New York-style to the light and fluffy Japanese cotton cheesecake. Different cultures have embraced it, leading to diverse flavors and toppings. Whether enjoyed plain or adorned with fruits, chocolates, or caramel, cheesecake continues to captivate dessert lovers everywhere.\n",
      "\n",
      "## Types of Cheesecake\n",
      "- **New York-style cheesecake**: Dense, creamy, and rich, this classic is made with cream cheese and has a buttery graham cracker crust.\n",
      "- **No-bake cheesecake**: Perfect for warm weather, this version is set with gelatin and doesn’t require an oven.\n",
      "- **Japanese cotton cheesecake**: Light and airy, this cheesecake has a soufflé-like texture that's achieved by folding meringue into the batter.\n",
      "- **Fruit-topped cheesecake**: A versatile option where seasonal fruits add freshness and color to the creamy base.\n",
      "\n",
      "## Key Ingredients\n",
      "To create a delicious cheesecake, you'll need:\n",
      "- **Cream cheese**: The star ingredient that provides the creamy texture.\n",
      "- **Sugar**: For sweetness, balancing the tanginess of the cream cheese.\n",
      "- **Eggs**: Essential for structure and richness.\n",
      "- **Crust options**: Typically graham cracker, but cookie crusts or even brownie bases can add a unique flair.\n",
      "\n",
      "## Basic Cheesecake Recipe\n",
      "### Ingredients List\n",
      "- 2 cups cream cheese\n",
      "- 1 cup sugar\n",
      "- 3 large eggs\n",
      "- 1 teaspoon vanilla extract\n",
      "- 1 ½ cups graham cracker crumbs\n",
      "- ½ cup melted butter\n",
      "\n",
      "### Step-by-Step Instructions\n",
      "1. Preheat your oven to 325°F (163°C).\n",
      "2. In a mixing bowl, combine graham cracker crumbs and melted butter. Press the mixture into the bottom of a springform pan.\n",
      "3. In another bowl, beat cream cheese until smooth. Gradually add sugar, mixing until combined.\n",
      "4. Add eggs one at a time, mixing on low speed after each addition. Stir in vanilla.\n",
      "5. Pour the batter over the crust and smooth the top.\n",
      "6. Bake for 50-60 minutes or until the center is set. Allow cooling in the oven with the door ajar to prevent cracking.\n",
      "7. Chill in the refrigerator for at least four hours before serving.\n",
      "\n",
      "### Baking Tips\n",
      "- Use room temperature ingredients for a smoother batter.\n",
      "- Avoid overmixing to prevent excess air, which can lead to cracks.\n",
      "\n",
      "## Common Mistakes to Avoid\n",
      "- **Overmixing the batter**: This can cause a dense texture and cracks.\n",
      "- **Not using room temperature ingredients**: Cold cream cheese can lead to lumps.\n",
      "- **Cracking the surface**: Bake at a low temperature and allow the cheesecake to cool gradually.\n",
      "\n",
      "## Serving Suggestions\n",
      "Elevate your cheesecake with delightful toppings like fresh fruits, chocolate ganache, or caramel drizzle. Pair it with a glass of dessert wine or a rich coffee for a perfect finish.\n",
      "\n",
      "## Conclusion\n",
      "Making cheesecake at home can be a rewarding experience, allowing you to customize flavors and textures to your liking. So, roll up your sleeves and try whipping up a cheesecake today! We’d love to hear about your favorite cheesecake recipes or experiences—share them in the comments below!\n"
     ]
    }
   ],
   "source": [
    "print(result.content)"
   ]
  },
  {
   "cell_type": "markdown",
   "metadata": {},
   "source": [
    "# sequential chain"
   ]
  },
  {
   "cell_type": "code",
   "execution_count": 1,
   "metadata": {},
   "outputs": [],
   "source": [
    "from langchain_openai import ChatOpenAI\n",
    "from langchain_core.prompts import ChatPromptTemplate, HumanMessagePromptTemplate\n",
    "\n",
    "from langchain.chains import LLMChain, SimpleSequentialChain, SequentialChain"
   ]
  },
  {
   "cell_type": "code",
   "execution_count": 2,
   "metadata": {},
   "outputs": [],
   "source": [
    "llm = ChatOpenAI(model=\"gpt-4o-mini\")"
   ]
  },
  {
   "cell_type": "code",
   "execution_count": 3,
   "metadata": {},
   "outputs": [],
   "source": [
    "employee_review = '''\n",
    "Employee Information:\n",
    "Name: Joe Schmo\n",
    "Position: Software Engineer\n",
    "Date of Review: July 14, 2023\n",
    "\n",
    "Joe is a highly skilled software engineer with a deep understanding of programming languages, algorithms, and software development best practices. His technical expertise shines through in his ability to efficiently solve complex problems and deliver high-quality code.\n",
    "\n",
    "One of Joe's greatest strengths is his collaborative nature. He actively engages with cross-functional teams, contributing valuable insights and seeking input from others. His open-mindedness and willingness to learn from colleagues make him a true team player.\n",
    "\n",
    "Joe consistently demonstrates initiative and self-motivation. He takes the lead in seeking out new projects and challenges, and his proactive attitude has led to significant improvements in existing processes and systems. His dedication to self-improvement and growth is commendable.\n",
    "\n",
    "Another notable strength is Joe's adaptability. He has shown great flexibility in handling changing project requirements and learning new technologies. This adaptability allows him to seamlessly transition between different projects and tasks, making him a valuable asset to the team.\n",
    "\n",
    "Joe's problem-solving skills are exceptional. He approaches issues with a logical mindset and consistently finds effective solutions, often thinking outside the box. His ability to break down complex problems into manageable parts is key to his success in resolving issues efficiently.\n",
    "\n",
    "While Joe possesses numerous strengths, there are a few areas where he could benefit from improvement. One such area is time management. Occasionally, Joe struggles with effectively managing his time, resulting in missed deadlines or the need for additional support to complete tasks on time. Developing better prioritization and time management techniques would greatly enhance his efficiency.\n",
    "\n",
    "Another area for improvement is Joe's written communication skills. While he communicates well verbally, there have been instances where his written documentation lacked clarity, leading to confusion among team members. Focusing on enhancing his written communication abilities will help him effectively convey ideas and instructions.\n",
    "\n",
    "Additionally, Joe tends to take on too many responsibilities and hesitates to delegate tasks to others. This can result in an excessive workload and potential burnout. Encouraging him to delegate tasks appropriately will not only alleviate his own workload but also foster a more balanced and productive team environment.\n",
    "'''"
   ]
  },
  {
   "cell_type": "markdown",
   "metadata": {},
   "source": [
    "- runnable \"pipe\""
   ]
  },
  {
   "cell_type": "code",
   "execution_count": 5,
   "metadata": {},
   "outputs": [],
   "source": [
    "# employee performance review -> summary -> weaknesses -> improvement plan\n",
    "\n",
    "summary_template = \"Give me a summary of this employee's performance review:\\n{review}\\n\\nReturn the summary only.\"\n",
    "summary_prompt = ChatPromptTemplate.from_template(summary_template)\n",
    "summary_chain = summary_prompt | llm\n",
    "# summary_chain = LLMChain(llm=llm, prompt=summary_prompt, output_key=\"review_summary\")\n",
    "\n",
    "weakness_template = \"Identify key employee weaknesses in this review summary:\\n{review_summary} Return the weaknesses only.\"\n",
    "weakness_prompt = ChatPromptTemplate.from_template(weakness_template)\n",
    "weakness_chain = weakness_prompt | llm\n",
    "# weakness_chain = LLMChain(llm=llm, prompt=weakness_prompt, output_key=\"weaknesses\")\n",
    "\n",
    "\n",
    "improvement_template = \"Create a personalized plan to help address and fix these weaknesses:\\n{weaknesses}\"\n",
    "improvement_prompt = ChatPromptTemplate.from_template(improvement_template)\n",
    "improvement_chain = improvement_prompt | llm\n",
    "# improvement_chain = LLMChain(llm=llm, prompt=improvement_prompt, output_key=\"final_plan\")\n",
    "\n"
   ]
  },
  {
   "cell_type": "code",
   "execution_count": 6,
   "metadata": {},
   "outputs": [],
   "source": [
    "overall_chain = summary_chain | weakness_chain | improvement_chain| {\n",
    "    'summary': summary_chain,\n",
    "    'weakness': weakness_chain,\n",
    "    'improvement': improvement_chain\n",
    "}"
   ]
  },
  {
   "cell_type": "code",
   "execution_count": 7,
   "metadata": {},
   "outputs": [],
   "source": [
    "result = overall_chain.invoke(input = {\"review\": employee_review})\n",
    "# print(result.content)"
   ]
  },
  {
   "cell_type": "code",
   "execution_count": 116,
   "metadata": {},
   "outputs": [
    {
     "name": "stdout",
     "output_type": "stream",
     "text": [
      "Here’s a personalized plan to address and improve your identified weaknesses:\n",
      "\n",
      "### 1. Time Management\n",
      "\n",
      "**Goals:**\n",
      "- Improve prioritization skills.\n",
      "- Increase productivity and reduce stress.\n",
      "\n",
      "**Action Steps:**\n",
      "- **Weekly Planning:** Spend 30 minutes each Sunday planning your week. Identify top priorities and allocate time blocks for each task.\n",
      "- **Daily To-Do Lists:** Each morning, create a list of tasks for the day. Limit it to 3-5 high-priority items to avoid overwhelm.\n",
      "- **Use a Timer:** Implement the Pomodoro Technique (25 minutes of focused work followed by a 5-minute break). This can enhance focus and prevent burnout.\n",
      "- **Reflect and Adjust:** At the end of each week, review what worked and what didn’t. Adjust your strategies accordingly.\n",
      "\n",
      "### 2. Written Communication Skills\n",
      "\n",
      "**Goals:**\n",
      "- Enhance clarity and effectiveness in written communication.\n",
      "\n",
      "**Action Steps:**\n",
      "- **Practice Writing Daily:** Set aside 15-30 minutes daily to write. This could be journaling, blogging, or drafting emails.\n",
      "- **Read Regularly:** Read articles or books that resonate with you. Analyze the writing style and structure used by effective writers.\n",
      "- **Seek Feedback:** Share your writing with a trusted friend or colleague for constructive criticism. Use their feedback to improve.\n",
      "- **Take a Course:** Consider enrolling in an online course focused on business writing or professional communication.\n",
      "\n",
      "### 3. Delegation of Responsibilities\n",
      "\n",
      "**Goals:**\n",
      "- Learn to delegate effectively to manage workload and reduce stress.\n",
      "\n",
      "**Action Steps:**\n",
      "- **Identify Delegable Tasks:** Make a list of tasks that can be delegated. Assess your current workload and identify non-essential tasks.\n",
      "- **Choose the Right People:** Identify team members or colleagues who can take on these responsibilities based on their strengths and skills.\n",
      "- **Communicate Clearly:** When delegating, provide clear instructions and expectations. Ensure that the person understands their role.\n",
      "- **Trust and Follow Up:** Once you’ve delegated a task, trust the person to complete it. Set up check-in points to monitor progress without micromanaging.\n",
      "\n",
      "### Monitoring Progress\n",
      "\n",
      "- **Set Milestones:** Establish specific milestones for each goal and review progress monthly.\n",
      "- **Accountability Partner:** Find someone who can hold you accountable—this could be a mentor, colleague, or friend.\n",
      "\n",
      "### Adapt and Evolve\n",
      "\n",
      "- Be open to adjusting your strategies based on what you learn along the way. Continuous improvement is key to overcoming these weaknesses.\n",
      "\n",
      "By following this plan, you should see gradual improvements in your time management, written communication skills, and ability to delegate responsibilities. Remember, consistency is key, and celebrating small victories along the way can help maintain motivation.\n"
     ]
    }
   ],
   "source": [
    "print(result['improvement'].content)"
   ]
  },
  {
   "cell_type": "code",
   "execution_count": 117,
   "metadata": {},
   "outputs": [],
   "source": [
    "# employee performance review -> summary -> weaknesses -> improvement plan\n",
    "\n",
    "summary_template = \"Give me a summary of this employee's performance review:\\n{review}\\n\\nReturn the summary only.\"\n",
    "summary_prompt = ChatPromptTemplate.from_template(summary_template)\n",
    "summary_chain = summary_prompt | llm\n",
    "summary_chain = LLMChain(llm=llm, prompt=summary_prompt, output_key=\"review_summary\")\n",
    "\n",
    "weakness_template = \"Identify key employee weaknesses in this review summary:\\n{review_summary} Return the weaknesses only.\"\n",
    "weakness_prompt = ChatPromptTemplate.from_template(weakness_template)\n",
    "# weakness_chain = weakness_prompt | llm\n",
    "weakness_chain = LLMChain(llm=llm, prompt=weakness_prompt, output_key=\"weaknesses\")\n",
    "\n",
    "\n",
    "improvement_template = \"Create a personalized plan to help address and fix these weaknesses:\\n{weaknesses}\"\n",
    "improvement_prompt = ChatPromptTemplate.from_template(improvement_template)\n",
    "# improvement_chain = improvement_prompt | llm\n",
    "improvement_chain = LLMChain(llm=llm, prompt=improvement_prompt, output_key=\"final_plan\")\n",
    "\n"
   ]
  },
  {
   "cell_type": "code",
   "execution_count": 118,
   "metadata": {},
   "outputs": [],
   "source": [
    "seq_chain = SequentialChain(chains=[summary_chain, weakness_chain, improvement_chain],\n",
    "                            input_variables=['review'],\n",
    "                            output_variables=['review_summary','weaknesses','final_plan'],\n",
    "                            verbose=True)"
   ]
  },
  {
   "cell_type": "code",
   "execution_count": 82,
   "metadata": {},
   "outputs": [
    {
     "name": "stdout",
     "output_type": "stream",
     "text": [
      "\n",
      "\n",
      "\u001b[1m> Entering new SequentialChain chain...\u001b[0m\n",
      "\n",
      "\u001b[1m> Finished chain.\u001b[0m\n"
     ]
    }
   ],
   "source": [
    "results = seq_chain.invoke(input={\"review\": employee_review})"
   ]
  },
  {
   "cell_type": "code",
   "execution_count": null,
   "metadata": {},
   "outputs": [],
   "source": [
    "print(results['final_plan'])"
   ]
  },
  {
   "cell_type": "code",
   "execution_count": null,
   "metadata": {},
   "outputs": [],
   "source": []
  }
 ],
 "metadata": {
  "kernelspec": {
   "display_name": "langchain-bootcamp",
   "language": "python",
   "name": "python3"
  },
  "language_info": {
   "codemirror_mode": {
    "name": "ipython",
    "version": 3
   },
   "file_extension": ".py",
   "mimetype": "text/x-python",
   "name": "python",
   "nbconvert_exporter": "python",
   "pygments_lexer": "ipython3",
   "version": "3.12.4"
  }
 },
 "nbformat": 4,
 "nbformat_minor": 2
}
