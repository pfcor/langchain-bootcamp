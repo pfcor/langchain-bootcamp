{
 "cells": [
  {
   "cell_type": "markdown",
   "metadata": {},
   "source": [
    "## History Quiz\n",
    "\n",
    "Our main goal is to use LangChain and Python to create a very simple class with a few methods for:\n",
    "* Writing a historical question that has a date as the correct answer\n",
    "* Getting the correct answer from LLM\n",
    "* Getting a Human user's best guess at at correct answer\n",
    "* Checking/reporting the difference between the correct answer and the user answer1"
   ]
  },
  {
   "cell_type": "code",
   "execution_count": 1,
   "metadata": {},
   "outputs": [],
   "source": [
    "class HistoryQuiz():\n",
    "    \n",
    "    def create_history_question(self,topic):\n",
    "        '''\n",
    "        This method should output a historical question about the topic that has a date as the correct answer.\n",
    "        For example:\n",
    "        \n",
    "            \"On what date did World War 2 end?\"\n",
    "            \n",
    "        '''\n",
    "       \n",
    "        return question\n",
    "    \n",
    "    def get_AI_answer(self,question):\n",
    "        '''\n",
    "        This method should get the answer to the historical question from the method above.\n",
    "        Note: This answer must be in datetime format! Use DateTimeOutputParser to confirm!\n",
    "        \n",
    "        September 2, 1945 --> datetime.datetime(1945, 9, 2, 0, 0)\n",
    "        '''\n",
    "         \n",
    "        \n",
    "        return correct_datetime\n",
    "    \n",
    "    def get_user_answer(self,question):\n",
    "        '''\n",
    "        This method should grab a user answer and convert it to datetime. It should collect a Year, Month, and Day.\n",
    "        You can just use input() for this.\n",
    "        '''\n",
    "        \n",
    "\n",
    "        \n",
    "        return user_datetime\n",
    "        \n",
    "        \n",
    "    def check_user_answer(self,user_answer,ai_answer):\n",
    "        '''\n",
    "        Should check the user answer against the AI answer and return the difference between them\n",
    "        '''\n",
    "        # print or return the difference between the answers here!\n",
    "        pass\n",
    "        "
   ]
  },
  {
   "cell_type": "markdown",
   "metadata": {},
   "source": [
    "- dev"
   ]
  },
  {
   "cell_type": "code",
   "execution_count": 2,
   "metadata": {},
   "outputs": [],
   "source": [
    "# langchain\n",
    "from langchain_openai import ChatOpenAI\n",
    "from langchain.prompts import (\n",
    "    ChatPromptTemplate,\n",
    "    # PromptTemplate,\n",
    "    SystemMessagePromptTemplate,\n",
    "    AIMessagePromptTemplate,\n",
    "    HumanMessagePromptTemplate,\n",
    ")\n",
    "from langchain.output_parsers import DatetimeOutputParser\n",
    "from langchain.output_parsers import OutputFixingParser\n",
    "\n",
    "# base\n",
    "import datetime as dt\n",
    "import time"
   ]
  },
  {
   "cell_type": "markdown",
   "metadata": {},
   "source": [
    "`create_history_question`"
   ]
  },
  {
   "cell_type": "code",
   "execution_count": 6,
   "metadata": {},
   "outputs": [],
   "source": [
    "def create_history_question(topic):\n",
    "    '''\n",
    "    This method should output a historical question about the topic that has a date as the correct answer.\n",
    "    For example:\n",
    "    \n",
    "        \"On what date did World War 2 end?\"\n",
    "        \n",
    "    '''\n",
    "\n",
    "    # system\n",
    "    system_template = (\"You generate historical questions about {topic}, for which the answer is a date.\\n\"\n",
    "                       \"For example: 'On what date did World War 2 end?\")\n",
    "    system_prompt = SystemMessagePromptTemplate.from_template(system_template)\n",
    "\n",
    "    # human\n",
    "    human_template = \"Generate a question\"\n",
    "    human_prompt = HumanMessagePromptTemplate.from_template(human_template)   \n",
    "\n",
    "    # chat\n",
    "    chat_prompt = ChatPromptTemplate([system_prompt, human_prompt])\n",
    "    request = chat_prompt.format_prompt(topic=topic)\n",
    "\n",
    "    # declare assistant\n",
    "    chat = ChatOpenAI(model='gpt-4o-mini')\n",
    "\n",
    "    # call assitant\n",
    "    result = chat.invoke(request)\n",
    "\n",
    "    # get question\n",
    "    question = result.content\n",
    "\n",
    "    return question"
   ]
  },
  {
   "cell_type": "code",
   "execution_count": 7,
   "metadata": {},
   "outputs": [
    {
     "data": {
      "text/plain": [
       "'On what date did the Storming of the Bastille occur, marking the beginning of the French Revolution?'"
      ]
     },
     "execution_count": 7,
     "metadata": {},
     "output_type": "execute_result"
    }
   ],
   "source": [
    "topic = \"french revolution\"\n",
    "\n",
    "create_history_question(topic)"
   ]
  },
  {
   "cell_type": "code",
   "execution_count": 9,
   "metadata": {},
   "outputs": [
    {
     "data": {
      "text/plain": [
       "'On what date did Brazil officially become a republic?'"
      ]
     },
     "execution_count": 9,
     "metadata": {},
     "output_type": "execute_result"
    }
   ],
   "source": [
    "topic = \"brazilian history\"\n",
    "\n",
    "create_history_question(topic)"
   ]
  },
  {
   "cell_type": "code",
   "execution_count": 11,
   "metadata": {},
   "outputs": [
    {
     "data": {
      "text/plain": [
       "'On what date did the Wright brothers achieve the first powered flight?'"
      ]
     },
     "execution_count": 11,
     "metadata": {},
     "output_type": "execute_result"
    }
   ],
   "source": [
    "topic = \"aviation history\"\n",
    "\n",
    "create_history_question(topic) # fuck you"
   ]
  },
  {
   "cell_type": "markdown",
   "metadata": {},
   "source": [
    "`get_AI_answer`"
   ]
  },
  {
   "cell_type": "code",
   "execution_count": 42,
   "metadata": {},
   "outputs": [],
   "source": [
    "def get_AI_answer(question):\n",
    "    '''\n",
    "    This method should get the answer to the historical question from the method above.\n",
    "    Note: This answer must be in datetime format! Use DateTimeOutputParser to confirm!\n",
    "    \n",
    "    September 2, 1945 --> datetime.datetime(1945, 9, 2, 0, 0)\n",
    "    '''\n",
    "\n",
    "    # output_parser\n",
    "    date_parser = DatetimeOutputParser()\n",
    "\n",
    "    # system\n",
    "    system_template = \"You correctly answer date related history questions\"\n",
    "    system_prompt = SystemMessagePromptTemplate.from_template(system_template)\n",
    "\n",
    "    # human\n",
    "    human_template = \"{question}\\n\\n{format_instructions}\"\n",
    "    human_prompt = HumanMessagePromptTemplate.from_template(human_template)\n",
    "\n",
    "    # chat\n",
    "    chat_prompt = ChatPromptTemplate([system_prompt, human_prompt])\n",
    "    request = chat_prompt.format_prompt(question=question,\n",
    "                                        format_instructions=date_parser.get_format_instructions())\n",
    "    \n",
    "    # declare and call assistant\n",
    "    chat = ChatOpenAI(model=\"gpt-4o-mini\", temperature=0)\n",
    "    result = chat.invoke(request).content\n",
    "\n",
    "    # parse result\n",
    "    try:\n",
    "        answer = date_parser.parse(result)\n",
    "    except Exception as e:\n",
    "        print(\"The answer was not correctly formatted:\")\n",
    "        print(e)\n",
    "        raise\n",
    "\n",
    "    return answer\n"
   ]
  },
  {
   "cell_type": "code",
   "execution_count": 43,
   "metadata": {},
   "outputs": [
    {
     "name": "stdout",
     "output_type": "stream",
     "text": [
      "Q: On what date did Brazil gain independence from Portugal?\n",
      "A: 1822-09-07 00:00:00\n"
     ]
    }
   ],
   "source": [
    "topic = \"brazilian history\"\n",
    "\n",
    "question = create_history_question(topic)\n",
    "print(f\"Q: {question}\")\n",
    "\n",
    "answer = get_AI_answer(question)\n",
    "print(f\"A: {answer}\")"
   ]
  },
  {
   "cell_type": "code",
   "execution_count": 44,
   "metadata": {},
   "outputs": [
    {
     "data": {
      "text/plain": [
       "datetime.datetime(1822, 9, 7, 0, 0)"
      ]
     },
     "execution_count": 44,
     "metadata": {},
     "output_type": "execute_result"
    }
   ],
   "source": [
    "answer"
   ]
  },
  {
   "cell_type": "markdown",
   "metadata": {},
   "source": [
    "`get_user_answer`"
   ]
  },
  {
   "cell_type": "code",
   "execution_count": 55,
   "metadata": {},
   "outputs": [],
   "source": [
    "def get_user_answer(question):\n",
    "    '''\n",
    "    This method should grab a user answer and convert it to datetime. It should collect a Year, Month, and Day.\n",
    "    You can just use input() for this.\n",
    "    '''\n",
    "\n",
    "    print(f\"Answer the question: {question}\")\n",
    "    \n",
    "    try:\n",
    "        year = int(input(\"Guess the year: \"))\n",
    "        month = int(input(\"Guess the month: \"))\n",
    "        day = int(input(\"Guess the day: \"))\n",
    "\n",
    "        user_datetime = dt.datetime(year, month, day)\n",
    "    except:\n",
    "        print(\"Incorrect input.\")\n",
    "        raise\n",
    "\n",
    "    return user_datetime"
   ]
  },
  {
   "cell_type": "code",
   "execution_count": 59,
   "metadata": {},
   "outputs": [
    {
     "name": "stdout",
     "output_type": "stream",
     "text": [
      "Answer the question: On what date did Brazil officially declare its independence from Portugal?\n"
     ]
    },
    {
     "data": {
      "text/plain": [
       "datetime.datetime(2020, 1, 1, 0, 0)"
      ]
     },
     "execution_count": 59,
     "metadata": {},
     "output_type": "execute_result"
    }
   ],
   "source": [
    "# topic = \"brazilian history\"\n",
    "# question = create_history_question(topic)\n",
    "\n",
    "get_user_answer(question=question)"
   ]
  },
  {
   "cell_type": "markdown",
   "metadata": {},
   "source": [
    "`check_user_answer`"
   ]
  },
  {
   "cell_type": "code",
   "execution_count": 66,
   "metadata": {},
   "outputs": [],
   "source": [
    "def check_user_answer(user_answer, ai_answer):\n",
    "    '''\n",
    "    Should check the user answer against the AI answer and return the difference between them\n",
    "    '''\n",
    "    # print or return the difference between the answers here!\n",
    "    \n",
    "    days_off = (user_answer - ai_answer).days\n",
    "\n",
    "    if days_off == 0:\n",
    "        print(\"You nailed it! Congratulations!\")\n",
    "    else:\n",
    "        print(f\"Oops! You were wrong for {days_off} days =/\")"
   ]
  },
  {
   "cell_type": "code",
   "execution_count": 68,
   "metadata": {},
   "outputs": [
    {
     "name": "stdout",
     "output_type": "stream",
     "text": [
      "Answer the question: On what date did Brazil officially declare its independence from Portugal?\n",
      "You nailed it! Congratulations!\n",
      "None\n"
     ]
    }
   ],
   "source": [
    "user_answer = get_user_answer(question=question)\n",
    "ai_answer = get_AI_answer(question)\n",
    "(check_user_answer(user_answer=user_answer, ai_answer=ai_answer))"
   ]
  },
  {
   "cell_type": "markdown",
   "metadata": {},
   "source": [
    "`HistoryQuiz`"
   ]
  },
  {
   "cell_type": "code",
   "execution_count": 3,
   "metadata": {},
   "outputs": [],
   "source": [
    "class HistoryQuiz():\n",
    "    \n",
    "    def create_history_question(self, topic):\n",
    "        '''\n",
    "        This method should output a historical question about the topic that has a date as the correct answer.\n",
    "        For example:\n",
    "        \n",
    "            \"On what date did World War 2 end?\"\n",
    "            \n",
    "        '''\n",
    "\n",
    "        # system\n",
    "        system_template = (\"You generate a historical quiz question about {topic}, \"\n",
    "                        \"for which the answer is a date. You only return the quiz.\\n\"\n",
    "                        \"For example: 'On what date did World War 2 end?\")\n",
    "        system_prompt = SystemMessagePromptTemplate.from_template(system_template)\n",
    "\n",
    "        # human\n",
    "        human_template = \"Generate a question where the correct answer is a date.\"\n",
    "        human_prompt = HumanMessagePromptTemplate.from_template(human_template)   \n",
    "\n",
    "        # chat\n",
    "        chat_prompt = ChatPromptTemplate([system_prompt, human_prompt])\n",
    "        request = chat_prompt.format_prompt(topic=topic)\n",
    "\n",
    "        # declare assistant\n",
    "        chat = ChatOpenAI(model='gpt-4o-mini', temperature=1)\n",
    "\n",
    "        # call assitant\n",
    "        result = chat.invoke(request)\n",
    "\n",
    "        # get question\n",
    "        question = result.content\n",
    "\n",
    "        return question\n",
    "    \n",
    "        \n",
    "    def get_AI_answer(self, question):\n",
    "        '''\n",
    "        This method should get the answer to the historical question from the method above.\n",
    "        Note: This answer must be in datetime format! Use DateTimeOutputParser to confirm!\n",
    "        \n",
    "        September 2, 1945 --> datetime.datetime(1945, 9, 2, 0, 0)\n",
    "        '''\n",
    "\n",
    "        # output_parser\n",
    "        date_parser = DatetimeOutputParser()\n",
    "\n",
    "        # system\n",
    "        system_template = \"You correctly answer date related history question. You answer just the date.\"\n",
    "        system_prompt = SystemMessagePromptTemplate.from_template(system_template)\n",
    "\n",
    "        # human\n",
    "        human_template = \"{question}\\n\\n{format_instructions}\"\n",
    "        human_prompt = HumanMessagePromptTemplate.from_template(human_template)\n",
    "\n",
    "        # chat\n",
    "        chat_prompt = ChatPromptTemplate([system_prompt, human_prompt])\n",
    "        request = chat_prompt.format_prompt(question=question,\n",
    "                                            format_instructions=date_parser.get_format_instructions())\n",
    "        \n",
    "        # declare and call assistant\n",
    "        chat = ChatOpenAI(model=\"gpt-4o-mini\", temperature=0)\n",
    "        result = chat.invoke(request).content\n",
    "\n",
    "        # parse result\n",
    "        try:\n",
    "            answer = date_parser.parse(result)\n",
    "        except Exception as e:\n",
    "            print(\"The answer was not correctly formatted:\")\n",
    "            print(e)\n",
    "            raise\n",
    "\n",
    "        return answer\n",
    "\n",
    "    \n",
    "    def get_user_answer(self, question):\n",
    "        '''\n",
    "        This method should grab a user answer and convert it to datetime. It should collect a Year, Month, and Day.\n",
    "        You can just use input() for this.\n",
    "        '''\n",
    "\n",
    "        print(f\"Answer the question: {question}\")\n",
    "        \n",
    "        try:\n",
    "            year = int(input(\"Guess the year: \"))\n",
    "            month = int(input(\"Guess the month: \"))\n",
    "            day = int(input(\"Guess the day: \"))\n",
    "\n",
    "            user_datetime = dt.datetime(year, month, day)\n",
    "        except:\n",
    "            print(\"Incorrect input.\")\n",
    "            raise\n",
    "\n",
    "        return user_datetime\n",
    "        \n",
    "        \n",
    "    def check_user_answer(self, user_answer, ai_answer):\n",
    "        '''\n",
    "        Should check the user answer against the AI answer and return the difference between them\n",
    "        '''\n",
    "        # print or return the difference between the answers here!\n",
    "        \n",
    "        days_off = (user_answer - ai_answer).days\n",
    "\n",
    "        print(f\"Ohhhh you answered {user_answer:%Y-%m-%d}... is it correct?\", end=\"\\n\\n\", flush=True)\n",
    "        for _ in range(3):\n",
    "            time.sleep(.85)\n",
    "            print(\".\", end=\"\", flush=True)\n",
    "        time.sleep(2)\n",
    "        if days_off == 0:\n",
    "            print(\"\\n\\nYou nailed it! Congratulations!\")\n",
    "        else:\n",
    "            print(f\"\\n\\nOops! You were wrong for {days_off} days... the correct answer was {ai_answer:%Y-%m-%d}\")\n",
    "\n",
    "    # ####PLAY\n",
    "    def play(self, topic):\n",
    "\n",
    "        question = self.create_history_question(topic)\n",
    "        ai_answer = self.get_AI_answer(question)\n",
    "        user_answer = self.get_user_answer(question)\n",
    "        print()\n",
    "        self.check_user_answer(user_answer=user_answer, ai_answer=ai_answer)\n",
    "\n",
    "        "
   ]
  },
  {
   "cell_type": "code",
   "execution_count": 4,
   "metadata": {},
   "outputs": [
    {
     "name": "stdout",
     "output_type": "stream",
     "text": [
      "Answer the question: On what date did Charles Darwin publish \"On the Origin of Species\"?\n",
      "\n",
      "Ohhhh you answered 1842-01-01... is it correct?\n",
      "\n",
      "...\n",
      "\n",
      "Oops! You were wrong for -6536 days... the correct answer was 1859-11-24\n"
     ]
    }
   ],
   "source": [
    "HistoryQuiz().play(\"charles darwin origin\")"
   ]
  },
  {
   "cell_type": "code",
   "execution_count": null,
   "metadata": {},
   "outputs": [],
   "source": []
  }
 ],
 "metadata": {
  "kernelspec": {
   "display_name": "langchain-bootcamp",
   "language": "python",
   "name": "python3"
  },
  "language_info": {
   "codemirror_mode": {
    "name": "ipython",
    "version": 3
   },
   "file_extension": ".py",
   "mimetype": "text/x-python",
   "name": "python",
   "nbconvert_exporter": "python",
   "pygments_lexer": "ipython3",
   "version": "3.12.4"
  }
 },
 "nbformat": 4,
 "nbformat_minor": 2
}
