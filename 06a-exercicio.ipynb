{
 "cells": [
  {
   "cell_type": "code",
   "execution_count": 2,
   "metadata": {},
   "outputs": [],
   "source": [
    "# !pip install wikipedia"
   ]
  },
  {
   "cell_type": "code",
   "execution_count": 16,
   "metadata": {},
   "outputs": [],
   "source": [
    "from langchain.prompts import (\n",
    "    ChatPromptTemplate,\n",
    "    SystemMessagePromptTemplate,\n",
    "    HumanMessagePromptTemplate,\n",
    ")\n",
    "from langchain_openai import ChatOpenAI\n",
    "from langchain.document_loaders import WikipediaLoader\n",
    "from langchain_community.document_loaders import WikipediaLoader\n",
    "\n",
    "\n",
    "def answer_question_about(person_name, question):\n",
    "    \n",
    "    '''\n",
    "    Use the Wikipedia Document Loader to help answer questions about someone, insert it as additional helpful context.\n",
    "    '''\n",
    "\n",
    "    # system\n",
    "    system_template = \"You answer questions about {person_name}, using the provided context\"\n",
    "    system_prompt = SystemMessagePromptTemplate.from_template(system_template)\n",
    "\n",
    "    # human\n",
    "    human_template = \"Question: {question}\\n\\nContext: {context}\"\n",
    "    human_prompt = HumanMessagePromptTemplate.from_template(human_template)\n",
    "\n",
    "    # chat\n",
    "    chat_prompt = ChatPromptTemplate([system_prompt, human_prompt])\n",
    "\n",
    "    # get context from wikipedia\n",
    "    docs = WikipediaLoader(query=person_name, load_max_docs=1).load()\n",
    "    context = docs[0].page_content\n",
    "\n",
    "    # declare model\n",
    "    model = ChatOpenAI(model=\"gpt-4o-mini\")\n",
    "\n",
    "    # call model\n",
    "    result = model.invoke(chat_prompt.format_prompt(person_name=person_name,\n",
    "                                                    question=question,\n",
    "                                                    context=context))\n",
    "\n",
    "    answer = result.content\n",
    "\n",
    "    return answer, context"
   ]
  },
  {
   "cell_type": "code",
   "execution_count": 22,
   "metadata": {},
   "outputs": [],
   "source": [
    "answer, context = answer_question_about(\"Pablo Vegetti\",\"What team does he play for?\")\n",
    "# Claude Elwood Shannon was born on April 30, 1916."
   ]
  },
  {
   "cell_type": "code",
   "execution_count": 23,
   "metadata": {},
   "outputs": [
    {
     "name": "stdout",
     "output_type": "stream",
     "text": [
      "Pablo Vegetti plays for Vasco da Gama.\n"
     ]
    }
   ],
   "source": [
    "print(answer)"
   ]
  },
  {
   "cell_type": "code",
   "execution_count": null,
   "metadata": {},
   "outputs": [],
   "source": []
  },
  {
   "cell_type": "code",
   "execution_count": null,
   "metadata": {},
   "outputs": [],
   "source": []
  },
  {
   "cell_type": "code",
   "execution_count": null,
   "metadata": {},
   "outputs": [],
   "source": []
  },
  {
   "cell_type": "code",
   "execution_count": 7,
   "metadata": {},
   "outputs": [
    {
     "data": {
      "text/plain": [
       "2"
      ]
     },
     "execution_count": 7,
     "metadata": {},
     "output_type": "execute_result"
    }
   ],
   "source": [
    "docs = WikipediaLoader(query=\"HUNTER X HUNTER\", load_max_docs=2).load()\n",
    "len(docs)"
   ]
  },
  {
   "cell_type": "code",
   "execution_count": 10,
   "metadata": {},
   "outputs": [
    {
     "name": "stdout",
     "output_type": "stream",
     "text": [
      "Hunter × Hunter (pronounced \"hunter hunter\") is a Japanese manga series written and illustrated by Yoshihiro Togashi. It has been serialized in Shueisha's shōnen manga magazine Weekly Shōnen Jump since March 1998, although the manga has frequently gone on extended hiatuses since 2006. Its chapters have been collected in 38 tankōbon volumes as of September 2024. The story focuses on a young boy named Gon Freecss who discovers that his father, who left him at a young age, is actually a world-renowned Hunter, a licensed professional who specializes in fantastical pursuits such as locating rare or unidentified animal species, treasure hunting, surveying unexplored enclaves, or hunting down lawless individuals. Gon departs on a journey to become a Hunter and eventually find his father. Along the way, Gon meets various other Hunters and encounters the paranormal.\n",
      "Hunter × Hunter was adapted into a 62-episode anime television series by Nippon Animation and directed by Kazuhiro Furuhashi, which ran on Fuji Television from October 1999 to March 2001. Three separate original video animations (OVAs) totaling 30 episodes were subsequently produced by Nippon Animation and released in Japan from 2002 to 2004. A second anime television series by Madhouse aired on Nippon Television from October 2011 to September 2014, totaling 148 episodes, with two animated theatrical films released in 2013. There are also numerous audio albums, video games, musicals, and other media based on Hunter × Hunter.\n",
      "The manga has been licensed for English release in North America by Viz Media since April 2005. Both television series have been also licensed by Viz Media, with the first series having aired on the Funimation Channel in 2009 and the second series broadcast on Adult Swim's Toonami programming block from April 2016 to June 2019.\n",
      "Hunter × Hunter has been a huge critical and financial success and has become one of the best-selling manga series of all time, having over 84 million copies in circulation by July 2022.\n",
      "\n",
      "\n",
      "== Synopsis ==\n",
      "\n",
      "\n",
      "=== Setting ===\n",
      "Hunters (ハンター, Hantā) are licensed, elite members of humanity who are capable of tracking down secret treasures, rare beasts, or even other individuals, and can also access locations that regulars cannot. To obtain a license one must pass the rigorous annual Hunter Examination run by the Hunter Association, which has a success rate of less than one in a hundred-thousand. A Hunter may be awarded up to three stars: a single star for making \"remarkable achievements in a particular field\"; they may then be upgraded to two stars for \"holding an official position\" and mentoring another Hunter up to single star level; and finally upgraded to three stars for \"remarkable achievements in multiple fields\".\n",
      "Nen (念) is the ability to control one's own life energy or aura, which is constantly emitted from them, knowingly or not. There are four basic Nen techniques: Ten (纏) maintains the aura in the body, strengthening it for defense; Zetsu (絕) shuts the aura flow off, useful for concealing one's presence and relieving fatigue; Ren (練) enables a user to produce more Nen; and Hatsu (發) is a person's specific use of Nen. Nen users are classified into six types based on their Hatsu abilities; Enhancers (強化系, Kyōkakei) strengthen and reinforce their natural physical abilities; Emitters (放出系, Hōshutsukei) project aura out of their bodies; Manipulators (操作系, Sōsakei) control objects or living things; Transmuters (変化系, Henkakei) change the type or properties of their aura; Conjurers (具現化系, Gugenkakei) create objects out of their aura; and Specialists (特質系, Tokushitsukei) have unique abilities that do not fall into the previous categories. A Nen user can enter into a Contract (誓約, Seiyaku) where, by pledging to follow certain Limitations (制約, Seiyaku), their abilities are strengthened in relation to how strict they are. An example of this is Kurapika who, in order to have an unbreakable chain that will fully restrain members of the Ph\n"
     ]
    }
   ],
   "source": [
    "print(docs[0].page_content)"
   ]
  },
  {
   "cell_type": "code",
   "execution_count": null,
   "metadata": {},
   "outputs": [],
   "source": []
  }
 ],
 "metadata": {
  "kernelspec": {
   "display_name": "langchain-bootcamp",
   "language": "python",
   "name": "python3"
  },
  "language_info": {
   "codemirror_mode": {
    "name": "ipython",
    "version": 3
   },
   "file_extension": ".py",
   "mimetype": "text/x-python",
   "name": "python",
   "nbconvert_exporter": "python",
   "pygments_lexer": "ipython3",
   "version": "3.12.4"
  }
 },
 "nbformat": 4,
 "nbformat_minor": 2
}
