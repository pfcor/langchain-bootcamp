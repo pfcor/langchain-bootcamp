{
 "cells": [
  {
   "cell_type": "code",
   "execution_count": 1,
   "metadata": {},
   "outputs": [],
   "source": [
    "def travel_ideia(interest, budget):\n",
    "    '''\n",
    "    INPUTS:\n",
    "        interest: a str interes or hobby (e.g. fishing)\n",
    "        budget: a str budget (e.g. $10.000)\n",
    "    '''\n",
    "\n",
    "    pass"
   ]
  },
  {
   "cell_type": "markdown",
   "metadata": {},
   "source": [
    "- answer"
   ]
  },
  {
   "cell_type": "code",
   "execution_count": 2,
   "metadata": {},
   "outputs": [],
   "source": [
    "from langchain_openai import ChatOpenAI\n",
    "# from langchain.schema import (\n",
    "#     SystemMessage,\n",
    "#     HumanMessage,\n",
    "#     AIMessage,\n",
    ")\n",
    "from langchain.prompts import (\n",
    "    ChatPromptTemplate,\n",
    "    SystemMessagePromptTemplate,\n",
    "    HumanMessagePromptTemplate,\n",
    "    AIMessagePromptTemplate\n",
    ")"
   ]
  },
  {
   "cell_type": "code",
   "execution_count": 6,
   "metadata": {},
   "outputs": [],
   "source": [
    "def travel_ideia(interest, budget, location, model=\"gpt-4o-mini\"):\n",
    "    '''\n",
    "    INPUTS:\n",
    "        interest: a str interes or hobby (e.g. fishing)\n",
    "        budget: a str budget (e.g. $10.000)\n",
    "    '''\n",
    "\n",
    "    # SYSTEM PROMPT\n",
    "    system_template = \"You are a AI assistant who helps with travel ideas for the user who lives in {location} based on their interest and budget\"\n",
    "    system_prompt = SystemMessagePromptTemplate.from_template(system_template)\n",
    "\n",
    "    # HUMAN PROMPT\n",
    "    human_template = (\"Give me a trip recomendation\\n\\n\"\n",
    "                      \"Interest: {interest}\\n\"\n",
    "                      \"Budget {budget}\")\n",
    "\n",
    "    human_prompt = HumanMessagePromptTemplate.from_template(human_template)\n",
    "\n",
    "    # CHAT PROMPT\n",
    "    chat_prompt = ChatPromptTemplate([system_prompt, human_prompt])\n",
    "\n",
    "    # PROMPT\n",
    "    prompt = chat_prompt.format_prompt(interest=interest,\n",
    "                                       budget=budget,\n",
    "                                       location=location)\n",
    "    \n",
    "    # CALL TO OPENAI API\n",
    "    ## declare assistant\n",
    "    chat = ChatOpenAI(model=model)\n",
    "    result = chat.invoke(prompt)\n",
    "\n",
    "    return result.content\n"
   ]
  },
  {
   "cell_type": "code",
   "execution_count": 9,
   "metadata": {},
   "outputs": [
    {
     "name": "stdout",
     "output_type": "stream",
     "text": [
      "For a nature and hiking enthusiast living in Brasília, I recommend a trip to Chapada dos Veadeiros National Park, which is about a 2-3 hour drive from the city. It's a fantastic destination for hiking and immersing yourself in nature, and you can do it within your budget.\n",
      "\n",
      "### Trip Itinerary:\n",
      "\n",
      "**Day 1: Travel to Chapada dos Veadeiros**\n",
      "- **Transportation**: Rent a car or take a bus to Alto Paraíso de Goiás (approximately R$100-150 for a round trip). \n",
      "- **Accommodation**: Look for budget-friendly pousadas or campsites. You can find options ranging from R$50-100 per night.\n",
      "\n",
      "**Day 2: Explore Chapada dos Veadeiros**\n",
      "- **Hiking**: Start your day with a hike to the iconic **Cachoeira de Santa Bárbara**, known for its stunning blue waters. The hike is approximately 3 km round trip and offers breathtaking views. Entrance fees may apply (around R$30).\n",
      "- **Lunch**: Pack a picnic or enjoy a local eatery in Alto Paraíso (budget R$20-30 for lunch).\n",
      "  \n",
      "**Day 3: More Hiking and Return**\n",
      "- **Morning Hike**: Visit **Catarata dos Couros**, another beautiful waterfall. The hike to reach it can be a bit more challenging but worth it for the scenery. Check if you need to pay for access (around R$30).\n",
      "- **Return to Brasília**: Head back to Brasília in the afternoon.\n",
      "\n",
      "### Estimated Budget:\n",
      "- **Transportation**: $100 (R$500) for gas or bus fare\n",
      "- **Accommodation**: $50-100 (R$250-500) for 1 night\n",
      "- **Food & Activities**: $50-100 (R$250-500) for meals and entrance fees\n",
      "\n",
      "### Total Estimated Cost: $200-300\n",
      "\n",
      "### Tips:\n",
      "- Bring plenty of water and snacks for your hikes.\n",
      "- Check the weather forecast and pack appropriate clothing.\n",
      "- Make sure to have a camera or smartphone to capture the stunning landscapes!\n",
      "\n",
      "This trip offers a perfect blend of adventure and natural beauty while staying within your budget. Enjoy your hiking adventure!\n"
     ]
    }
   ],
   "source": [
    "interest=\"nature, hiking\"\n",
    "budget=\"$300\"\n",
    "location=\"brasília-df\"\n",
    "\n",
    "print(travel_ideia(interest=interest, \n",
    "                   budget=budget, \n",
    "                   location=location))"
   ]
  },
  {
   "cell_type": "markdown",
   "metadata": {},
   "source": [
    "- dev"
   ]
  },
  {
   "cell_type": "code",
   "execution_count": null,
   "metadata": {},
   "outputs": [],
   "source": [
    "from langchain_openai import ChatOpenAI\n",
    "from langchain.schema import (\n",
    "    SystemMessage,\n",
    "    HumanMessage,\n",
    "    AIMessage,\n",
    ")\n",
    "from langchain.prompts import (\n",
    "    ChatPromptTemplate,\n",
    "    SystemMessagePromptTemplate,\n",
    "    HumanMessagePromptTemplate,\n",
    "    AIMessagePromptTemplate\n",
    ")"
   ]
  },
  {
   "cell_type": "code",
   "execution_count": 7,
   "metadata": {},
   "outputs": [],
   "source": [
    "chat = ChatOpenAI(model=\"gpt-4o-mini\")"
   ]
  },
  {
   "cell_type": "code",
   "execution_count": 19,
   "metadata": {},
   "outputs": [],
   "source": [
    "system_template = \"You are a AI assistant who helps with travel ideas for the user based on their interest and budget\"\n",
    "system_prompt = SystemMessagePromptTemplate.from_template(system_template)\n",
    "\n",
    "human_template = (\"Give me a trip recomendation\\n\\n\"\n",
    "                 \"Interest: {interest}\\n\"\n",
    "                 \"Budget {budget}\")\n",
    "\n",
    "human_prompt = HumanMessagePromptTemplate.from_template(human_template)"
   ]
  },
  {
   "cell_type": "code",
   "execution_count": 32,
   "metadata": {},
   "outputs": [],
   "source": [
    "chat_prompt = ChatPromptTemplate([system_prompt,\n",
    "                                  human_prompt])"
   ]
  },
  {
   "cell_type": "code",
   "execution_count": 33,
   "metadata": {},
   "outputs": [
    {
     "data": {
      "text/plain": [
       "['budget', 'interest']"
      ]
     },
     "execution_count": 33,
     "metadata": {},
     "output_type": "execute_result"
    }
   ],
   "source": [
    "chat_prompt.input_variables"
   ]
  },
  {
   "cell_type": "code",
   "execution_count": 34,
   "metadata": {},
   "outputs": [
    {
     "data": {
      "text/plain": [
       "ChatPromptValue(messages=[SystemMessage(content='You are a AI assistant who helps with travel ideas for the user based on their interest and budget', additional_kwargs={}, response_metadata={}), HumanMessage(content='Give me a trip recomendation\\n\\nInterest: music festivals\\nBudget $5000', additional_kwargs={}, response_metadata={})])"
      ]
     },
     "execution_count": 34,
     "metadata": {},
     "output_type": "execute_result"
    }
   ],
   "source": [
    "chat_prompt.format_prompt(interest=\"music festivals\", \n",
    "                          budget=\"$5000\")"
   ]
  },
  {
   "cell_type": "code",
   "execution_count": 35,
   "metadata": {},
   "outputs": [],
   "source": [
    "interest=\"music festivals\"\n",
    "budget=\"$5000\"\n",
    "\n",
    "prompt = (\n",
    "    chat_prompt\n",
    "        .format_prompt(interest=interest,\n",
    "                       budget=budget)\n",
    ")"
   ]
  },
  {
   "cell_type": "code",
   "execution_count": 36,
   "metadata": {},
   "outputs": [],
   "source": [
    "result = chat.invoke(prompt)"
   ]
  },
  {
   "cell_type": "code",
   "execution_count": 37,
   "metadata": {},
   "outputs": [
    {
     "name": "stdout",
     "output_type": "stream",
     "text": [
      "With a budget of $5000 and a keen interest in music festivals, you have some fantastic options! Here’s a recommendation for an exciting trip centered around attending multiple music festivals:\n",
      "\n",
      "### Destination: Europe (Summer Music Festival Circuit)\n",
      "\n",
      "#### Suggested Festivals:\n",
      "1. **Glastonbury Festival (UK)**\n",
      "   - **Dates:** Late June\n",
      "   - **Why Go:** One of the most iconic music festivals in the world featuring a diverse lineup of genres, art installations, and a vibrant atmosphere.\n",
      "\n",
      "2. **Tomorrowland (Belgium)**\n",
      "   - **Dates:** Late July\n",
      "   - **Why Go:** A major electronic dance music festival known for its elaborate stage designs and massive line-up of top DJs.\n",
      "\n",
      "3. **Sziget Festival (Hungary)**\n",
      "   - **Dates:** Early August\n",
      "   - **Why Go:** Located in Budapest, this multi-genre festival offers a mix of music, art, and cultural experiences in a beautiful setting.\n",
      "\n",
      "#### Itinerary Overview:\n",
      "- **Day 1-5:** Arrive in London, explore the city, and attend Glastonbury Festival. Accommodations can be arranged either on-site or in nearby towns.\n",
      "  \n",
      "- **Day 6-8:** Travel to Belgium (train or short flight) to attend Tomorrowland. Consider staying in nearby accommodations that offer shuttle services to the festival.\n",
      "\n",
      "- **Day 9-12:** Head to Budapest for Sziget Festival. Enjoy the city’s sights, including thermal baths and ruin bars, while attending the festival.\n",
      "\n",
      "#### Budget Breakdown (Approximate):\n",
      "- **Flights:** $800 (round trip to Europe)\n",
      "- **Festivals Tickets:** $600 (Glastonbury: $350, Tomorrowland: $300, Sziget: $300)\n",
      "- **Accommodation:** $1500 (4 nights per festival, averaging $125 per night)\n",
      "- **Food & Drink:** $600 (Approx. $50 per day)\n",
      "- **Transportation:** $500 (trains/flights between cities)\n",
      "- **Miscellaneous (souvenirs, extra activities):** $400\n",
      "\n",
      "### Total Estimated Cost: $4300\n",
      "\n",
      "This leaves you with some extra budget for any unplanned expenses or upgrades, such as VIP tickets for festivals or nicer accommodations. \n",
      "\n",
      "#### Tips:\n",
      "- **Book Early:** Festival tickets and accommodations can sell out quickly, so plan ahead.\n",
      "- **Travel Insurance:** Consider getting travel insurance that covers festival attendance.\n",
      "- **Local Experiences:** Take time to explore local music scenes, street performances, and cultural events in each city.\n",
      "\n",
      "This trip will immerse you in diverse music experiences while allowing you to explore some of Europe’s most vibrant cities! Enjoy your musical adventure!\n"
     ]
    }
   ],
   "source": [
    "print(result.content)"
   ]
  },
  {
   "cell_type": "code",
   "execution_count": 41,
   "metadata": {},
   "outputs": [],
   "source": [
    "def travel_ideia(interest, budget, location, model=\"gpt-4o-mini\"):\n",
    "    '''\n",
    "    INPUTS:\n",
    "        interest: a str interes or hobby (e.g. fishing)\n",
    "        budget: a str budget (e.g. $10.000)\n",
    "    '''\n",
    "\n",
    "    # SYSTEM\n",
    "    system_template = \"You are a AI assistant who helps with travel ideas for the user who lives in {location} based on their interest and budget\"\n",
    "    system_prompt = SystemMessagePromptTemplate.from_template(system_template)\n",
    "\n",
    "    # HUMAN\n",
    "    human_template = (\"Give me a trip recomendation\\n\\n\"\n",
    "                 \"Interest: {interest}\\n\"\n",
    "                 \"Budget {budget}\")\n",
    "\n",
    "    human_prompt = HumanMessagePromptTemplate.from_template(human_template)\n",
    "\n",
    "    # CHAT\n",
    "    chat_prompt = ChatPromptTemplate([system_prompt, human_prompt])\n",
    "\n",
    "    # PROMPT\n",
    "    prompt = chat_prompt.format_prompt(interest=interest,\n",
    "                                       budget=budget,\n",
    "                                       location=location)\n",
    "    \n",
    "    # CALL TO OPENAI API\n",
    "    ## declare assistant\n",
    "    chat = ChatOpenAI(model=model)\n",
    "    result = chat.invoke(prompt)\n",
    "\n",
    "    print(result.content)\n"
   ]
  },
  {
   "cell_type": "code",
   "execution_count": 43,
   "metadata": {},
   "outputs": [
    {
     "name": "stdout",
     "output_type": "stream",
     "text": [
      "Based on your interest in nature and hiking, as well as your budget of $300, I recommend a trip to Chapada dos Veadeiros, a stunning national park located about 230 km from Brasília. Here’s a suggested itinerary for a 3-day trip:\n",
      "\n",
      "### Day 1: Travel to Chapada dos Veadeiros\n",
      "- **Transportation:** You can either rent a car or take a bus from Brasília to Alto Paraíso de Goiás, the closest town to Chapada dos Veadeiros. A round trip by bus is around $50-$70.\n",
      "- **Accommodation:** Look for a budget-friendly pousada or campsite in Alto Paraíso. Prices vary, but you can find options for around $30-$60 per night.\n",
      "- **Activities:** Arrive in the afternoon, explore the town and enjoy a local dinner. \n",
      "\n",
      "### Day 2: Explore Chapada dos Veadeiros National Park\n",
      "- **Hiking:** Spend the day hiking in the park. Popular trails include the **Catarata dos Couros** and **Canyon dos Couros**, where you can enjoy stunning waterfalls and beautiful landscapes. Entrance to the park is about $10.\n",
      "- **Pack a Lunch:** Bring snacks or a packed lunch to save on food costs while hiking.\n",
      "- **Dinner:** Try a local restaurant in Alto Paraíso for dinner (budget around $10-$15).\n",
      "\n",
      "### Day 3: More Hiking and Return to Brasília\n",
      "- **Morning Hike:** Visit the **Vale da Lua** or **Cachoeira de Santa Bárbara**, known for its incredible rock formations and clear waters. Depending on the location, you might have to pay a small entry fee.\n",
      "- **Lunch:** Enjoy a meal in town after your morning hike (around $10).\n",
      "- **Return Trip:** Head back to Brasília in the late afternoon or evening.\n",
      "\n",
      "### Budget Breakdown:\n",
      "- Transportation: $70 (bus round trip)\n",
      "- Accommodation: $90 (2 nights at $45)\n",
      "- Park Entrance Fees: $20 (2 parks)\n",
      "- Meals: $60 (3 meals per day at $10 each for 3 days)\n",
      "- Snacks and Miscellaneous: $30\n",
      "\n",
      "**Total Estimated Cost:** $300\n",
      "\n",
      "This trip allows you to immerse yourself in nature, enjoy beautiful hikes, and experience the unique landscapes that Chapada dos Veadeiros has to offer—all within your budget!\n"
     ]
    }
   ],
   "source": [
    "travel_ideia(interest=\"nature, hiking\", budget=\"$300\", location=\"brasília-df\")"
   ]
  },
  {
   "cell_type": "code",
   "execution_count": null,
   "metadata": {},
   "outputs": [],
   "source": []
  }
 ],
 "metadata": {
  "kernelspec": {
   "display_name": "langchain-bootcamp",
   "language": "python",
   "name": "python3"
  },
  "language_info": {
   "codemirror_mode": {
    "name": "ipython",
    "version": 3
   },
   "file_extension": ".py",
   "mimetype": "text/x-python",
   "name": "python",
   "nbconvert_exporter": "python",
   "pygments_lexer": "ipython3",
   "version": "3.12.4"
  }
 },
 "nbformat": 4,
 "nbformat_minor": 2
}
