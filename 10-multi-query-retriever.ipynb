{
 "cells": [
  {
   "cell_type": "code",
   "execution_count": 1,
   "metadata": {},
   "outputs": [],
   "source": [
    "from langchain_community.document_loaders import WikipediaLoader"
   ]
  },
  {
   "cell_type": "code",
   "execution_count": 2,
   "metadata": {},
   "outputs": [],
   "source": [
    "loader = WikipediaLoader(query=\"MKUltra\", load_max_docs=1, doc_content_chars_max =50000)\n",
    "documents = loader.load()"
   ]
  },
  {
   "cell_type": "code",
   "execution_count": 3,
   "metadata": {},
   "outputs": [
    {
     "data": {
      "text/plain": [
       "1"
      ]
     },
     "execution_count": 3,
     "metadata": {},
     "output_type": "execute_result"
    }
   ],
   "source": [
    "len(documents)"
   ]
  },
  {
   "cell_type": "code",
   "execution_count": 4,
   "metadata": {},
   "outputs": [
    {
     "data": {
      "text/plain": [
       "44274"
      ]
     },
     "execution_count": 4,
     "metadata": {},
     "output_type": "execute_result"
    }
   ],
   "source": [
    "len(documents[0].page_content)"
   ]
  },
  {
   "cell_type": "code",
   "execution_count": 15,
   "metadata": {},
   "outputs": [],
   "source": [
    "from langchain_text_splitters import CharacterTextSplitter\n",
    "text_splitter = CharacterTextSplitter.from_tiktoken_encoder(chunk_size=500)"
   ]
  },
  {
   "cell_type": "code",
   "execution_count": 16,
   "metadata": {},
   "outputs": [
    {
     "name": "stderr",
     "output_type": "stream",
     "text": [
      "Created a chunk of size 1202, which is longer than the specified 500\n",
      "Created a chunk of size 546, which is longer than the specified 500\n"
     ]
    }
   ],
   "source": [
    "docs = text_splitter.split_documents(documents=documents)"
   ]
  },
  {
   "cell_type": "code",
   "execution_count": 17,
   "metadata": {},
   "outputs": [
    {
     "data": {
      "text/plain": [
       "22"
      ]
     },
     "execution_count": 17,
     "metadata": {},
     "output_type": "execute_result"
    }
   ],
   "source": [
    "len(docs)"
   ]
  },
  {
   "cell_type": "code",
   "execution_count": 18,
   "metadata": {},
   "outputs": [
    {
     "name": "stdout",
     "output_type": "stream",
     "text": [
      "=== Applications ===\n",
      "The 1976 Church Committee report found that, in the MKDELTA program, \"Drugs were used primarily as an aid to interrogations, but MKULTRA/MKDELTA materials were also used for harassment, discrediting or disabling purposes.\"\n",
      "\n",
      "\n",
      "=== Other related projects ===\n",
      "In 1964, MKSEARCH was the name given to the continuation of the MKULTRA program. The MKSEARCH program was divided into two projects dubbed MKOFTEN and MKCHICKWIT. Funding for MKSEARCH commenced in 1965, and ended in 1971. The project was a joint project between the U.S. Army Chemical Corps and the CIA's Office of Research and Development to find new offensive-use agents, with a focus on incapacitating agents. Its purpose was to develop, test, and evaluate capabilities in the covert use of biological, chemical, and radioactive material systems and techniques of producing predictable human behavioral and/or physiological changes in support of highly sensitive operational requirements.\n",
      "By March 1971, over 26,000 potential agents had been acquired for future screening. The CIA was interested in bird migration patterns for chemical and biological warfare (CBW) research; subproject 139 designated \"Bird Disease Studies\" at Pennsylvania State University. MKOFTEN was to deal with testing and toxicological transmissivity and behavioral effects of drugs in animals and, ultimately, humans. MKCHICKWIT was concerned with acquiring information on new drug developments in Europe and Asia, and with acquiring samples.\n",
      "In January 1957, the CIA started a subproject of MKUltra in effort to broaden their scientific research. \"Subproject 68\", conducted at the Allan Memorial Institute in Montreal under the direction of psychiatrist Dr. Donald Ewen Cameron, represents one of the most infamous and ethically controversial endeavors within the MKUltra program. This subproject aimed to explore innovative techniques for manipulating and controlling human behavior, particularly through the methods of \"psychic driving\" and \"depatterning\". Psychic driving involved subjecting patients to continuous playback of recorded messages, often with themes of self-improvement or identity reinforcement, while they were under the influence of powerful psychoactive substances such as LSD or barbiturates.\n"
     ]
    }
   ],
   "source": [
    "print(docs[3].page_content)"
   ]
  },
  {
   "cell_type": "code",
   "execution_count": 19,
   "metadata": {},
   "outputs": [],
   "source": [
    "from langchain_openai import OpenAIEmbeddings\n",
    "embedding_function = OpenAIEmbeddings()"
   ]
  },
  {
   "cell_type": "code",
   "execution_count": 20,
   "metadata": {},
   "outputs": [],
   "source": [
    "from langchain_chroma import Chroma\n",
    "db = Chroma.from_documents(documents=docs,\n",
    "                           embedding=embedding_function,\n",
    "                           persist_directory=\"./some_new_mkultra3\")"
   ]
  },
  {
   "cell_type": "code",
   "execution_count": 21,
   "metadata": {},
   "outputs": [],
   "source": [
    "from langchain.retrievers.multi_query import MultiQueryRetriever\n",
    "from langchain_openai import ChatOpenAI"
   ]
  },
  {
   "cell_type": "code",
   "execution_count": 32,
   "metadata": {},
   "outputs": [],
   "source": [
    "question = \"which drugs were used?\""
   ]
  },
  {
   "cell_type": "code",
   "execution_count": 33,
   "metadata": {},
   "outputs": [],
   "source": [
    "model = ChatOpenAI(model=\"gpt-4o-mini\")"
   ]
  },
  {
   "cell_type": "code",
   "execution_count": 34,
   "metadata": {},
   "outputs": [],
   "source": [
    "retriever_from_llm = MultiQueryRetriever.from_llm(retriever=db.as_retriever(), \n",
    "                                                  llm=model)"
   ]
  },
  {
   "cell_type": "code",
   "execution_count": 35,
   "metadata": {},
   "outputs": [],
   "source": [
    "# logging\n",
    "\n",
    "import logging\n",
    "logging.basicConfig()\n",
    "logging.getLogger('langchain.retriever.multi_query').setLevel(logging.INFO)"
   ]
  },
  {
   "cell_type": "code",
   "execution_count": 42,
   "metadata": {},
   "outputs": [],
   "source": [
    "unique_docs = retriever_from_llm.invoke(input=question)"
   ]
  },
  {
   "cell_type": "code",
   "execution_count": 44,
   "metadata": {},
   "outputs": [
    {
     "name": "stdout",
     "output_type": "stream",
     "text": [
      "=== Other drugs ===\n",
      "Another technique investigated was the intravenous administration of a barbiturate into one arm and an amphetamine into the other. The barbiturates were released into the person first, and as soon as the person began to fall asleep, the amphetamines were released.\n",
      "Other experiments involved heroin, morphine, temazepam (used under code name MKSEARCH), mescaline, psilocybin, scopolamine, alcohol and sodium pentothal.\n",
      "\n",
      "\n",
      "=== Hypnosis ===\n",
      "Declassified MKUltra documents indicate they studied hypnosis in the early 1950s. Experimental goals included creating \"hypnotically induced anxieties\", \"hypnotically increasing ability to learn and recall complex written matter\", studying hypnosis and polygraph examinations, \"hypnotically increasing ability to observe and recall complex arrangements of physical objects\", and studying \"relationship of personality to susceptibility to hypnosis\". They conducted experiments with drug-induced hypnosis and with anterograde and retrograde amnesia while under the influence of such drugs.\n",
      "\n",
      "\n",
      "== Experiments on Canadians ==\n"
     ]
    }
   ],
   "source": [
    "print(unique_docs[0].page_content)"
   ]
  },
  {
   "cell_type": "code",
   "execution_count": null,
   "metadata": {},
   "outputs": [],
   "source": []
  },
  {
   "cell_type": "code",
   "execution_count": null,
   "metadata": {},
   "outputs": [],
   "source": []
  },
  {
   "cell_type": "code",
   "execution_count": null,
   "metadata": {},
   "outputs": [],
   "source": []
  },
  {
   "cell_type": "code",
   "execution_count": null,
   "metadata": {},
   "outputs": [],
   "source": []
  },
  {
   "cell_type": "code",
   "execution_count": 46,
   "metadata": {},
   "outputs": [
    {
     "data": {
      "text/plain": [
       "12029"
      ]
     },
     "execution_count": 46,
     "metadata": {},
     "output_type": "execute_result"
    }
   ],
   "source": [
    "len(documents[2].page_content)"
   ]
  },
  {
   "cell_type": "code",
   "execution_count": 39,
   "metadata": {},
   "outputs": [
    {
     "data": {
      "text/plain": [
       "20000"
      ]
     },
     "execution_count": 39,
     "metadata": {},
     "output_type": "execute_result"
    }
   ],
   "source": [
    "len(documents[0].page_content)"
   ]
  },
  {
   "cell_type": "code",
   "execution_count": 31,
   "metadata": {},
   "outputs": [],
   "source": [
    "# print(documents[0].metadata['title'])\n",
    "# print(\"-\"*len(documents[0].metadata['title']))\n",
    "# print()\n",
    "# print(documents[0].page_content)\n",
    "# # print(documents[1].page_content)\n"
   ]
  },
  {
   "cell_type": "code",
   "execution_count": null,
   "metadata": {},
   "outputs": [],
   "source": []
  }
 ],
 "metadata": {
  "kernelspec": {
   "display_name": "langchain-bootcamp",
   "language": "python",
   "name": "python3"
  },
  "language_info": {
   "codemirror_mode": {
    "name": "ipython",
    "version": 3
   },
   "file_extension": ".py",
   "mimetype": "text/x-python",
   "name": "python",
   "nbconvert_exporter": "python",
   "pygments_lexer": "ipython3",
   "version": "3.12.4"
  }
 },
 "nbformat": 4,
 "nbformat_minor": 2
}
