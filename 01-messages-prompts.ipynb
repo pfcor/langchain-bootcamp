{
 "cells": [
  {
   "cell_type": "markdown",
   "metadata": {},
   "source": [
    "# aula 1"
   ]
  },
  {
   "cell_type": "markdown",
   "metadata": {},
   "source": [
    "## intro"
   ]
  },
  {
   "cell_type": "code",
   "execution_count": 2,
   "metadata": {},
   "outputs": [],
   "source": [
    "# from langchain.llms import OpenAI\n",
    "# from langchain.chat_models import ChatOpenAI\n",
    "\n",
    "from langchain_openai import ChatOpenAI\n",
    "from langchain.schema import (\n",
    "    AIMessage,\n",
    "    HumanMessage,\n",
    "    SystemMessage\n",
    ")"
   ]
  },
  {
   "cell_type": "code",
   "execution_count": 3,
   "metadata": {},
   "outputs": [],
   "source": [
    "chat = ChatOpenAI(model='gpt-4o-mini')"
   ]
  },
  {
   "cell_type": "code",
   "execution_count": 4,
   "metadata": {},
   "outputs": [
    {
     "name": "stdout",
     "output_type": "stream",
     "text": [
      "Ah, São Januário! O templo do Vasco da Gama, né? Olha, a construção do estádio começou em 1920 e foi um marco na história do futebol carioca e brasileiro. O projeto foi idealizado para ser um espaço que refletisse a grandiosidade do clube, e a obra foi concluída em 1927. Desde o início, o estádio tinha uma característica muito carioca: a mistura de paixão pelo futebol e o desejo de criar um espaço para a comunidade. A arquitetura, com suas arquibancadas em degraus e o famoso \"maracanãzinho\" que se desenvolveu ao longo do tempo, mostra bem essa relação. E, claro, São Januário não é só um estádio, é um símbolo da resistência e da luta do clube e da torcida, especialmente em tempos difíceis. É um lugar onde o futebol se entrelaça com a cultura e a história do Rio de Janeiro!\n"
     ]
    }
   ],
   "source": [
    "system_message = SystemMessage(content=\"você é um historiador especializado na cultura carioca e seus deselvovimentos sociais. você fala como um amigo no bar, batendo papo sobre seus assuntos de interesse. escreva apenas um parágrafo\")\n",
    "human_message = HumanMessage(content='me fale um um pouco sobre a construção de são januário')\n",
    "\n",
    "\n",
    "result = chat.invoke([system_message, human_message])\n",
    "\n",
    "print(result.content)"
   ]
  },
  {
   "cell_type": "code",
   "execution_count": 40,
   "metadata": {},
   "outputs": [
    {
     "name": "stderr",
     "output_type": "stream",
     "text": [
      "c:\\Users\\julia\\Projetos\\langchain-bootcamp\\Lib\\site-packages\\langchain_openai\\chat_models\\base.py:356: UserWarning: Unexpected type for token usage: <class 'NoneType'>\n",
      "  warnings.warn(f\"Unexpected type for token usage: {type(new_usage)}\")\n"
     ]
    }
   ],
   "source": [
    "system_message_2 = SystemMessage(content=\"vocÊ é um vascaíno apaixonado que ama o vasco e o futebol. vocÊ fala com grande entusiasmo quando o assunto é o vasco. escreva apenas um parágrafo\")\n",
    "\n",
    "result = chat.generate([[system_message, human_message], [system_message_2, human_message]])"
   ]
  },
  {
   "cell_type": "code",
   "execution_count": 41,
   "metadata": {},
   "outputs": [
    {
     "data": {
      "text/plain": [
       "{'token_usage': {'completion_tokens': 380,\n",
       "  'prompt_tokens': 128,\n",
       "  'total_tokens': 508,\n",
       "  'completion_tokens_details': {'audio_tokens': None, 'reasoning_tokens': 0},\n",
       "  'prompt_tokens_details': {'audio_tokens': None, 'cached_tokens': 0}},\n",
       " 'model_name': 'gpt-4o-mini',\n",
       " 'system_fingerprint': 'fp_f85bea6784'}"
      ]
     },
     "execution_count": 41,
     "metadata": {},
     "output_type": "execute_result"
    }
   ],
   "source": [
    "result.llm_output"
   ]
  },
  {
   "cell_type": "code",
   "execution_count": 42,
   "metadata": {},
   "outputs": [
    {
     "data": {
      "text/plain": [
       "[[ChatGeneration(text='Ah, São Januário, meu amigo! A casa do Vasco da Gama, um templo do futebol carioca e um símbolo da resistência e da paixão da torcida. A construção do estádio começou em 1927 e, apesar de várias dificuldades financeiras, foi inaugurado em 1933. O projeto foi idealizado pelo arquiteto e torcedor vascaíno, que queria um espaço à altura da grandiosidade do clube. O legal é que São Januário foi um dos primeiros estádios do Brasil a ter arquibancadas cobertas e um gramado de qualidade, o que era bem inovador na época. O lugar não é só um espaço para jogos, mas um palco de grandes histórias, como a luta pela inclusão e igualdade racial, já que o Vasco sempre teve uma postura mais aberta em relação à diversidade. É um verdadeiro patrimônio não só do clube, mas da cultura carioca!', generation_info={'finish_reason': 'stop', 'logprobs': None}, message=AIMessage(content='Ah, São Januário, meu amigo! A casa do Vasco da Gama, um templo do futebol carioca e um símbolo da resistência e da paixão da torcida. A construção do estádio começou em 1927 e, apesar de várias dificuldades financeiras, foi inaugurado em 1933. O projeto foi idealizado pelo arquiteto e torcedor vascaíno, que queria um espaço à altura da grandiosidade do clube. O legal é que São Januário foi um dos primeiros estádios do Brasil a ter arquibancadas cobertas e um gramado de qualidade, o que era bem inovador na época. O lugar não é só um espaço para jogos, mas um palco de grandes histórias, como a luta pela inclusão e igualdade racial, já que o Vasco sempre teve uma postura mais aberta em relação à diversidade. É um verdadeiro patrimônio não só do clube, mas da cultura carioca!', additional_kwargs={'refusal': None}, response_metadata={'token_usage': {'completion_tokens': 185, 'prompt_tokens': 66, 'total_tokens': 251, 'completion_tokens_details': {'audio_tokens': None, 'reasoning_tokens': 0}, 'prompt_tokens_details': {'audio_tokens': None, 'cached_tokens': 0}}, 'model_name': 'gpt-4o-mini-2024-07-18', 'system_fingerprint': 'fp_f85bea6784', 'finish_reason': 'stop', 'logprobs': None}, id='run-608e375d-9169-49f3-823c-7b90c4ede0a0-0', usage_metadata={'input_tokens': 66, 'output_tokens': 185, 'total_tokens': 251, 'input_token_details': {'cache_read': 0}, 'output_token_details': {'reasoning': 0}}))],\n",
       " [ChatGeneration(text='Ah, São Januário! O nosso templo sagrado! A construção desse estádio icônico começou em 1920 e foi inaugurado em 21 de abril de 1927. Ele é um verdadeiro símbolo da história do Vasco da Gama e da paixão do nosso torcedor! Projetado pelo arquitetomente e engenheiro Paulo de Frontin, o estádio foi o primeiro a ser construído por um clube de futebol no Brasil e possui uma capacidade para mais de 20 mil torcedores. O que torna São Januário ainda mais especial é que ele foi erguido com a ajuda da torcida, que comprou ações do clube para viabilizar a obra. É em cada canto desse estádio que ressoam as vozes de milhares de vascaínos, apaixonados e fervorosos, sempre prontos para apoiar o nosso amado Vasco! É um lugar mágico, onde a história se encontra com a emoção do futebol! Vamos, meu Vasco!', generation_info={'finish_reason': 'stop', 'logprobs': None}, message=AIMessage(content='Ah, São Januário! O nosso templo sagrado! A construção desse estádio icônico começou em 1920 e foi inaugurado em 21 de abril de 1927. Ele é um verdadeiro símbolo da história do Vasco da Gama e da paixão do nosso torcedor! Projetado pelo arquitetomente e engenheiro Paulo de Frontin, o estádio foi o primeiro a ser construído por um clube de futebol no Brasil e possui uma capacidade para mais de 20 mil torcedores. O que torna São Januário ainda mais especial é que ele foi erguido com a ajuda da torcida, que comprou ações do clube para viabilizar a obra. É em cada canto desse estádio que ressoam as vozes de milhares de vascaínos, apaixonados e fervorosos, sempre prontos para apoiar o nosso amado Vasco! É um lugar mágico, onde a história se encontra com a emoção do futebol! Vamos, meu Vasco!', additional_kwargs={'refusal': None}, response_metadata={'token_usage': {'completion_tokens': 195, 'prompt_tokens': 62, 'total_tokens': 257, 'completion_tokens_details': {'audio_tokens': None, 'reasoning_tokens': 0}, 'prompt_tokens_details': {'audio_tokens': None, 'cached_tokens': 0}}, 'model_name': 'gpt-4o-mini-2024-07-18', 'system_fingerprint': 'fp_f85bea6784', 'finish_reason': 'stop', 'logprobs': None}, id='run-b45a5d1b-fc13-454b-ab7e-a9c7407bdb10-0', usage_metadata={'input_tokens': 62, 'output_tokens': 195, 'total_tokens': 257, 'input_token_details': {'cache_read': 0}, 'output_token_details': {'reasoning': 0}}))]]"
      ]
     },
     "execution_count": 42,
     "metadata": {},
     "output_type": "execute_result"
    }
   ],
   "source": [
    "result.generations"
   ]
  },
  {
   "cell_type": "code",
   "execution_count": 43,
   "metadata": {},
   "outputs": [
    {
     "name": "stdout",
     "output_type": "stream",
     "text": [
      "Ah, São Januário! O nosso templo sagrado! A construção desse estádio icônico começou em 1920 e foi inaugurado em 21 de abril de 1927. Ele é um verdadeiro símbolo da história do Vasco da Gama e da paixão do nosso torcedor! Projetado pelo arquitetomente e engenheiro Paulo de Frontin, o estádio foi o primeiro a ser construído por um clube de futebol no Brasil e possui uma capacidade para mais de 20 mil torcedores. O que torna São Januário ainda mais especial é que ele foi erguido com a ajuda da torcida, que comprou ações do clube para viabilizar a obra. É em cada canto desse estádio que ressoam as vozes de milhares de vascaínos, apaixonados e fervorosos, sempre prontos para apoiar o nosso amado Vasco! É um lugar mágico, onde a história se encontra com a emoção do futebol! Vamos, meu Vasco!\n"
     ]
    }
   ],
   "source": [
    "print(result.generations[1][0].text)"
   ]
  },
  {
   "cell_type": "code",
   "execution_count": 44,
   "metadata": {},
   "outputs": [
    {
     "name": "stdout",
     "output_type": "stream",
     "text": [
      ">> temperature = 0\n",
      "Ah, São Januário! O coração pulsante do Vasco da Gama! A construção desse templo do futebol começou em 1920 e foi inaugurada em 21 de abril de 1927. Projetado pelo arquiteto Heitor de Silva Costa, o estádio é um verdadeiro símbolo da nossa paixão. Com capacidade para mais de 20 mil torcedores, ele foi o primeiro estádio do Brasil a ter arquibancadas cobertas, um verdadeiro marco na história do futebol nacional! Cada jogo ali disputado é uma festa, uma celebração da nossa história e da nossa luta. São Januário é mais do que um estádio; é um lugar sagrado onde a torcida vascaína se une em amor e fervor pelo nosso querido clube! Vamos, Vasco!\n",
      "\n",
      ">> temperature = 0\n",
      "Ah, São Januário! O coração pulsante do Vasco da Gama! A construção desse templo do futebol começou em 1920 e foi inaugurada em 21 de abril de 1927. Projetado pelo arquiteto Heitor de Silva Costa, o estádio é um verdadeiro símbolo da nossa história e da nossa paixão. Com capacidade para mais de 20 mil torcedores, ele é conhecido por sua atmosfera vibrante e pela incrível energia que a torcida vascaína traz a cada jogo. São Januário não é apenas um estádio; é um lugar sagrado onde vivemos momentos inesquecíveis, vitórias emocionantes e, claro, a celebração do nosso amor pelo Vasco! É um orgulho imenso fazer parte dessa história! Vamos, meu Vascão!\n",
      "\n",
      ">> temperature = 1\n",
      "Ah, São Januário! O coração pulsante do nosso Vasco! A construção do Estádio de São Januário começou em 1921, e foi inaugurado em 1933, com um projeto audacioso que visava proporcionar aos torcedores uma experiência única de assistir aos jogos do nosso amado clube. A obra foi realizada com muito amor e dedicação, especialmente pelo engenheiro e vascaíno apaixonado, o engenheiro Paulo de Frontin. O estádio, que é o mais antigo do Brasil em funcionamento, não só abriga a nossa história gloriosa, mas também é um símbolo da luta e da resistência da torcida vascaína. E quem não se emociona ao ver a arquibancada vibrando em uníssono, cantando a plenos pulmões, apoiando o Gigante da Colina? É um verdadeiro templo do futebol! Vamos sempre em frente, meu Vasco!\n",
      "\n",
      ">> temperature = 1\n",
      "Ah, São Januário! O coração pulsante do Vasco da Gama! Inaugurado em 1927, esse estádio é um verdadeiro templo do futebol e um símbolo da paixão vascaína! Sua construção foi um marco na história do nosso clube, que se destacou pela ousadia em erguer um estádio tão imponente em um período em que o futebol brasileiro estava apenas começando a se profissionalizar. Com uma capacidade para mais de 20 mil torcedores, São Januário se tornou um local sagrado, onde já vivenciamos tantas emoções, vitórias épicas e momentos inesquecíveis. É ali que a massa vascaína se reúne para cantar e apoiar o nosso querido Gigante da Colina, provando que a paixão pelo Vasco vai muito além das quatro linhas! É um orgulho imenso fazer parte dessa história! Vamos, Vasco!\n",
      "\n"
     ]
    }
   ],
   "source": [
    "temperature = 0\n",
    "result = chat.invoke(\n",
    "    [system_message_2, human_message],\n",
    "    temperature=temperature,\n",
    "    top_p=0.1\n",
    "    )\n",
    "\n",
    "print(f'>> temperature = {temperature}')\n",
    "print(result.content)\n",
    "print()\n",
    "\n",
    "temperature = 0\n",
    "result = chat.invoke(\n",
    "    [system_message_2, human_message],\n",
    "    temperature=temperature,\n",
    "    top_p=0.1\n",
    "    )\n",
    "\n",
    "print(f'>> temperature = {temperature}')\n",
    "print(result.content)\n",
    "print()\n",
    "\n",
    "temperature = 1\n",
    "result = chat.invoke(\n",
    "    [system_message_2, human_message],\n",
    "    temperature=temperature,\n",
    "    top_p=.9\n",
    "    )\n",
    "\n",
    "print(f'>> temperature = {temperature}')\n",
    "print(result.content)\n",
    "print()\n",
    "\n",
    "temperature = 1\n",
    "result = chat.invoke(\n",
    "    [system_message_2, human_message],\n",
    "    temperature=temperature,\n",
    "    top_p=.9\n",
    "    )\n",
    "\n",
    "print(f'>> temperature = {temperature}')\n",
    "print(result.content)\n",
    "print()\n"
   ]
  },
  {
   "cell_type": "markdown",
   "metadata": {},
   "source": [
    "## prompt template"
   ]
  },
  {
   "cell_type": "code",
   "execution_count": 18,
   "metadata": {},
   "outputs": [],
   "source": [
    "from langchain import PromptTemplate"
   ]
  },
  {
   "cell_type": "markdown",
   "metadata": {},
   "source": [
    "- no input"
   ]
  },
  {
   "cell_type": "code",
   "execution_count": 19,
   "metadata": {},
   "outputs": [
    {
     "data": {
      "text/plain": [
       "'Tell me a fact'"
      ]
     },
     "execution_count": 19,
     "metadata": {},
     "output_type": "execute_result"
    }
   ],
   "source": [
    "no_input_prompt = PromptTemplate(input_variables=[], \n",
    "                                 template=\"Tell me a fact\")\n",
    "\n",
    "no_input_prompt.format()"
   ]
  },
  {
   "cell_type": "code",
   "execution_count": 24,
   "metadata": {},
   "outputs": [
    {
     "name": "stdout",
     "output_type": "stream",
     "text": [
      "Bananas are berries, while strawberries are not! In botanical terms, a berry is a fruit produced from the ovary of a single flower with seeds embedded in the flesh, making bananas fit the definition, whereas strawberries develop from a flower with multiple ovaries.\n"
     ]
    }
   ],
   "source": [
    "print(chat.invoke(no_input_prompt.format()).content)"
   ]
  },
  {
   "cell_type": "markdown",
   "metadata": {},
   "source": [
    "- single input"
   ]
  },
  {
   "cell_type": "code",
   "execution_count": 31,
   "metadata": {},
   "outputs": [
    {
     "data": {
      "text/plain": [
       "'Tell me a fact about ballet'"
      ]
     },
     "execution_count": 31,
     "metadata": {},
     "output_type": "execute_result"
    }
   ],
   "source": [
    "single_input_prompt = PromptTemplate(input_variables=[\"topic\"],\n",
    "                                     template=\"Tell me a fact about {topic}\")\n",
    "\n",
    "single_input_prompt.format(topic=\"ballet\")\n"
   ]
  },
  {
   "cell_type": "code",
   "execution_count": 32,
   "metadata": {},
   "outputs": [
    {
     "name": "stdout",
     "output_type": "stream",
     "text": [
      "Ballet originated during the Italian Renaissance in the 15th century and was further developed in the French courts. The term \"ballet\" comes from the Italian word \"ballare,\" which means \"to dance.\" It was initially a form of entertainment for the aristocracy, featuring elaborate costumes and staged performances. Over time, ballet evolved into a highly technical form of dance, with its own vocabulary and a rich tradition of storytelling through movement.\n"
     ]
    }
   ],
   "source": [
    "print(chat.invoke(single_input_prompt.format(topic=\"ballet\")).content)\n"
   ]
  },
  {
   "cell_type": "markdown",
   "metadata": {},
   "source": [
    "- multiple input"
   ]
  },
  {
   "cell_type": "code",
   "execution_count": 33,
   "metadata": {},
   "outputs": [
    {
     "data": {
      "text/plain": [
       "'Tell me a fact about ballet for a 3rd grade student'"
      ]
     },
     "execution_count": 33,
     "metadata": {},
     "output_type": "execute_result"
    }
   ],
   "source": [
    "multiple_input_prompt = PromptTemplate(input_variables=['topic', 'level'],\n",
    "                                       template=\"Tell me a fact about {topic} for a {level} student\")\n",
    "\n",
    "multiple_input_prompt.format(topic='ballet',\n",
    "                             level='3rd grade')"
   ]
  },
  {
   "cell_type": "code",
   "execution_count": 35,
   "metadata": {},
   "outputs": [
    {
     "name": "stdout",
     "output_type": "stream",
     "text": [
      "Ballet is a special type of dance that tells a story using beautiful movements and music! Dancers wear special shoes called ballet slippers that help them dance gracefully, and they often perform on their toes in a technique called \"pointe.\" It’s like dancing on your tippy toes!\n"
     ]
    }
   ],
   "source": [
    "print(chat.invoke(multiple_input_prompt.format(topic='ballet', level='3rd grade')).content)"
   ]
  },
  {
   "cell_type": "code",
   "execution_count": 36,
   "metadata": {},
   "outputs": [
    {
     "name": "stdout",
     "output_type": "stream",
     "text": [
      "Ballet as a formalized art form can be traced back to the Italian Renaissance courts of the 15th century, where it evolved from court dances into a theatrical art form. The term \"ballet\" itself is derived from the Italian word \"balletto,\" which is a diminutive form of \"ballo,\" meaning \"dance.\" The transition from these courtly dance traditions to a stage performance format was significantly influenced by the French court, particularly during the reign of Louis XIV, who established the Académie Royale de Danse in 1661. This institution played a crucial role in codifying ballet techniques and formalizing the training of dancers, ultimately leading to the development of ballet as we know it today, with its distinct vocabulary, techniques, and choreography. This historical trajectory highlights the interplay between social, cultural, and artistic developments in shaping ballet as both a performance art and a discipline of study.\n"
     ]
    }
   ],
   "source": [
    "print(chat.invoke(multiple_input_prompt.format(topic='ballet', level='PhD')).content)"
   ]
  },
  {
   "cell_type": "markdown",
   "metadata": {},
   "source": [
    "## chat prompt templates"
   ]
  },
  {
   "cell_type": "code",
   "execution_count": 5,
   "metadata": {},
   "outputs": [],
   "source": [
    "from langchain.prompts import (\n",
    "    PromptTemplate,\n",
    "    ChatPromptTemplate,\n",
    "    SystemMessagePromptTemplate,\n",
    "    HumanMessagePromptTemplate,\n",
    "    AIMessagePromptTemplate\n",
    ")\n",
    "\n",
    "from langchain.schema import (\n",
    "    SystemMessage,\n",
    "    HumanMessage,\n",
    "    AIMessage\n",
    ")"
   ]
  },
  {
   "cell_type": "markdown",
   "metadata": {},
   "source": [
    "- system"
   ]
  },
  {
   "cell_type": "code",
   "execution_count": 6,
   "metadata": {},
   "outputs": [],
   "source": [
    "system_template = \"You are an AI assitant chef that specializes in {dietary_preference} dishes that can be prepared in {cooking_time}. You help the user with one recipe sugestion.\"\n",
    "\n",
    "system_message_prompt = SystemMessagePromptTemplate.from_template(system_template)"
   ]
  },
  {
   "cell_type": "code",
   "execution_count": 7,
   "metadata": {},
   "outputs": [
    {
     "data": {
      "text/plain": [
       "['cooking_time', 'dietary_preference']"
      ]
     },
     "execution_count": 7,
     "metadata": {},
     "output_type": "execute_result"
    }
   ],
   "source": [
    "system_message_prompt.input_variables"
   ]
  },
  {
   "cell_type": "code",
   "execution_count": 8,
   "metadata": {},
   "outputs": [
    {
     "data": {
      "text/plain": [
       "SystemMessage(content='You are an AI assitant chef that specializes in vegan dishes that can be prepared in 30 minutes. You help the user with one recipe sugestion.', additional_kwargs={}, response_metadata={})"
      ]
     },
     "execution_count": 8,
     "metadata": {},
     "output_type": "execute_result"
    }
   ],
   "source": [
    "system_message_prompt.format(dietary_preference=\"vegan\", cooking_time=\"30 minutes\")"
   ]
  },
  {
   "cell_type": "markdown",
   "metadata": {},
   "source": [
    "- human"
   ]
  },
  {
   "cell_type": "code",
   "execution_count": 9,
   "metadata": {},
   "outputs": [],
   "source": [
    "human_template = \"{recipe_request}\"\n",
    "\n",
    "human_message_prompt = HumanMessagePromptTemplate.from_template(human_template)"
   ]
  },
  {
   "cell_type": "markdown",
   "metadata": {},
   "source": [
    "- chat prompt"
   ]
  },
  {
   "cell_type": "code",
   "execution_count": 10,
   "metadata": {},
   "outputs": [],
   "source": [
    "chat_prompt = ChatPromptTemplate([system_message_prompt,\n",
    "                                  human_message_prompt])"
   ]
  },
  {
   "cell_type": "code",
   "execution_count": 12,
   "metadata": {},
   "outputs": [
    {
     "data": {
      "text/plain": [
       "['cooking_time', 'dietary_preference', 'recipe_request']"
      ]
     },
     "execution_count": 12,
     "metadata": {},
     "output_type": "execute_result"
    }
   ],
   "source": [
    "chat_prompt.input_variables"
   ]
  },
  {
   "cell_type": "code",
   "execution_count": 17,
   "metadata": {},
   "outputs": [],
   "source": [
    "dietary_preference=\"vegan\"\n",
    "cooking_time=\"40 minutes\"\n",
    "recipe_request=\"tasty meal\"\n",
    "\n",
    "prompt = (\n",
    "    chat_prompt\n",
    "        .format_prompt(dietary_preference=dietary_preference,\n",
    "                       cooking_time=cooking_time,\n",
    "                       recipe_request=recipe_request)\n",
    "        # .to_messages()\n",
    ")"
   ]
  },
  {
   "cell_type": "code",
   "execution_count": 18,
   "metadata": {},
   "outputs": [
    {
     "name": "stdout",
     "output_type": "stream",
     "text": [
      "messages=[SystemMessage(content='You are an AI assitant chef that specializes in vegan dishes that can be prepared in 40 minutes. You help the user with one recipe sugestion.', additional_kwargs={}, response_metadata={}), HumanMessage(content='tasty meal', additional_kwargs={}, response_metadata={})]\n"
     ]
    },
    {
     "ename": "",
     "evalue": "",
     "output_type": "error",
     "traceback": [
      "\u001b[1;31mThe Kernel crashed while executing code in the current cell or a previous cell. \n",
      "\u001b[1;31mPlease review the code in the cell(s) to identify a possible cause of the failure. \n",
      "\u001b[1;31mClick <a href='https://aka.ms/vscodeJupyterKernelCrash'>here</a> for more info. \n",
      "\u001b[1;31mView Jupyter <a href='command:jupyter.viewOutput'>log</a> for further details."
     ]
    }
   ],
   "source": [
    "print(prompt)"
   ]
  },
  {
   "cell_type": "code",
   "execution_count": 84,
   "metadata": {},
   "outputs": [],
   "source": [
    "result = chat.invoke(prompt)"
   ]
  },
  {
   "cell_type": "code",
   "execution_count": 85,
   "metadata": {},
   "outputs": [
    {
     "name": "stdout",
     "output_type": "stream",
     "text": [
      "How about a delicious Vegan Chickpea Stir-Fry? It’s colorful, packed with protein, and can be made in just 30 minutes! Here’s how to prepare it:\n",
      "\n",
      "### Vegan Chickpea Stir-Fry\n",
      "\n",
      "#### Ingredients:\n",
      "- 1 can (15 oz) chickpeas, drained and rinsed\n",
      "- 2 tablespoons soy sauce or tamari (for gluten-free)\n",
      "- 1 tablespoon olive oil or sesame oil\n",
      "- 1 red bell pepper, sliced\n",
      "- 1 cup broccoli florets\n",
      "- 1 carrot, sliced\n",
      "- 1 zucchini, sliced\n",
      "- 2 cloves garlic, minced\n",
      "- 1 teaspoon fresh ginger, grated (optional)\n",
      "- 2 green onions, chopped (for garnish)\n",
      "- Sesame seeds (for garnish)\n",
      "- Cooked rice or quinoa (for serving)\n",
      "\n",
      "#### Instructions:\n",
      "\n",
      "1. **Prep the Ingredients**: Slice the bell pepper, carrot, zucchini, and broccoli. Mince the garlic and grate the ginger if using.\n",
      "\n",
      "2. **Heat the Oil**: In a large pan or wok, heat the olive or sesame oil over medium-high heat.\n",
      "\n",
      "3. **Sauté the Vegetables**: Add the minced garlic and grated ginger. Sauté for about 30 seconds until fragrant. Then, add the sliced bell pepper, carrot, and zucchini. Stir-fry for about 3-4 minutes.\n",
      "\n",
      "4. **Add Broccoli and Chickpeas**: Add the broccoli florets and the drained chickpeas to the pan. Stir everything together and cook for another 5-6 minutes, or until the vegetables are tender but still crisp.\n",
      "\n",
      "5. **Season**: Pour in the soy sauce or tamari, and stir well to coat all the ingredients. Cook for an additional 2 minutes.\n",
      "\n",
      "6. **Serve**: Remove from heat and serve over cooked rice or quinoa. Garnish with chopped green onions and sesame seeds.\n",
      "\n",
      "### Enjoy your vibrant and healthy Vegan Chickpea Stir-Fry! \n",
      "\n",
      "Feel free to customize the vegetables based on what you have on hand. This dish is versatile and can be tailored to your taste!\n"
     ]
    }
   ],
   "source": [
    "print(result.content)"
   ]
  },
  {
   "cell_type": "code",
   "execution_count": null,
   "metadata": {},
   "outputs": [],
   "source": []
  }
 ],
 "metadata": {
  "kernelspec": {
   "display_name": "langchain-bootcamp",
   "language": "python",
   "name": "python3"
  },
  "language_info": {
   "codemirror_mode": {
    "name": "ipython",
    "version": 3
   },
   "file_extension": ".py",
   "mimetype": "text/x-python",
   "name": "python",
   "nbconvert_exporter": "python",
   "pygments_lexer": "ipython3",
   "version": "3.12.4"
  }
 },
 "nbformat": 4,
 "nbformat_minor": 2
}
